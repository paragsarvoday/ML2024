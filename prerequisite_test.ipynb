{
 "cells": [
  {
   "cell_type": "markdown",
   "metadata": {},
   "source": [
    "##### 1. How many multiplications and additions do you need to perform a matrix multiplication between a (n, k) and (k, m) matrix? Explain."
   ]
  },
  {
   "cell_type": "markdown",
   "metadata": {},
   "source": [
    "Answer:\n",
    "$$\\text{Number of multiplications} = k \\times m \\times \\times n$$\n",
    "$$\n",
    "\\text{Number of additions} = (k-1) \\times m \\times n\n",
    "$$    \n",
    "\n",
    "Explaination:\n",
    "Matrix multiplication is Row-Column operation i.e. all elements in the each row of $1^{st}$ matrix get multiplied to the corresponding elements in each column of the $2^{nd}$ matrix and the result is summation of the terms generated from addition of terms generated after multiplication in each case.\n",
    "\n",
    "Also, in case of addition, $\\text{number of addition operations} = \\text{number of terms} -1$"
   ]
  },
  {
   "cell_type": "markdown",
   "metadata": {},
   "source": [
    "##### 2. Write Python code to multiply the above two matrices. Solve using list of lists and then use numpy. Compare the timing of both solutions. Which one is faster? Why?"
   ]
  },
  {
   "cell_type": "code",
   "execution_count": 25,
   "metadata": {},
   "outputs": [],
   "source": [
    "import numpy as np"
   ]
  },
  {
   "cell_type": "code",
   "execution_count": 26,
   "metadata": {},
   "outputs": [],
   "source": [
    "A_mat = np.random.randint(1, 100, size=(55,30))\n",
    "B_mat = np.random.randint(101, 500, size=(30,68))\n",
    "A_B = np.zeros(shape=(55,68))"
   ]
  },
  {
   "cell_type": "code",
   "execution_count": 27,
   "metadata": {},
   "outputs": [
    {
     "name": "stdout",
     "output_type": "stream",
     "text": [
      "65.2 ms ± 4.74 ms per loop (mean ± std. dev. of 7 runs, 10 loops each)\n"
     ]
    }
   ],
   "source": [
    "%%timeit\n",
    "for i in range(A_mat.shape[0]):\n",
    "    for j in range(B_mat.shape[1]):\n",
    "        for k in range(A_mat.shape[1]):  #A_mat.shape[1] == B_mat.shape[0]\n",
    "            A_B[i][j] += A_mat[i][k] * B_mat[k][j]"
   ]
  },
  {
   "cell_type": "code",
   "execution_count": 28,
   "metadata": {},
   "outputs": [
    {
     "name": "stdout",
     "output_type": "stream",
     "text": [
      "159 µs ± 7.88 µs per loop (mean ± std. dev. of 7 runs, 10,000 loops each)\n"
     ]
    }
   ],
   "source": [
    "%%timeit\n",
    "C = np.matmul(A_mat, B_mat)"
   ]
  },
  {
   "cell_type": "markdown",
   "metadata": {},
   "source": [
    "The numpy method is faster than the lists method.\n",
    "\n",
    "Reason:\n",
    "Lists in Python are slower than NumPy operations due to the dynamic nature of Python, which involves type-checking and function dispatches during each loop cycle, causing overhead, whereas NumPy uses pre-compiled, optimized code for array operations, resulting in faster execution."
   ]
  },
  {
   "cell_type": "markdown",
   "metadata": {},
   "source": [
    "##### 3. Finding the highest element in a list requires one pass of the array. Finding the second highest element requires 2 passes of the the array. Using this method, what is the time complexity of finding the median of the array? Can you suggest a better method? Can you implement both these methods in Python and compare against numpy.median routine in terms of time?"
   ]
  },
  {
   "cell_type": "markdown",
   "metadata": {},
   "source": [
    "Time complexity = $O(\\frac{n}{2} \\times n)$ = $O(n^2)$ \\\n",
    "where n in the number of elements in the array"
   ]
  },
  {
   "cell_type": "markdown",
   "metadata": {},
   "source": [
    "A better method: Sort the array using an efficient sorting algorithm $(\\sim O(n\\log{n}))$ and get the $(\\frac{n-1}{2})^{th}$ element if n is odd or get the average of the $(\\frac{n}{2})^{th}$ and $(\\frac{n}{2} +1)^{th}$ elements if n is even, where n in the number of elements in the array"
   ]
  },
  {
   "cell_type": "markdown",
   "metadata": {},
   "source": [
    "First method:"
   ]
  },
  {
   "cell_type": "code",
   "execution_count": 29,
   "metadata": {},
   "outputs": [],
   "source": [
    "def find_nth_max(arr, n, prior_max = np.infty):\n",
    "    prior_flag = False\n",
    "    if(prior_max != np.infty):\n",
    "        prior_flag = True\n",
    "    \n",
    "    nth_counter = 0\n",
    "    max = -2 #arbitrary\n",
    "    while nth_counter < n:\n",
    "        for i in range(len(arr)):\n",
    "            if (arr[i] < prior_max and arr[i] >= max):\n",
    "                max = arr[i]\n",
    "        if (prior_flag):\n",
    "            prior_max = max\n",
    "            max = -2\n",
    "            return prior_max\n",
    "            \n",
    "        prior_max = max\n",
    "        max = -2\n",
    "        nth_counter+=1\n",
    "\n",
    "    return prior_max"
   ]
  },
  {
   "cell_type": "code",
   "execution_count": 30,
   "metadata": {},
   "outputs": [],
   "source": [
    "def find_median(median_array):\n",
    "    n = len(median_array)\n",
    "    if (n%2 == 0):  #n is even\n",
    "        m1 = find_nth_max(median_array, int(n-(n/2)))\n",
    "        m2 = find_nth_max(median_array, int(n-(n/2))+1, m1)\n",
    "        return (m1+m2)/2\n",
    "    \n",
    "    else: #n is odd\n",
    "        m1 = find_nth_max(median_array, int((n+1)/2))\n",
    "        return m1"
   ]
  },
  {
   "cell_type": "code",
   "execution_count": 31,
   "metadata": {},
   "outputs": [],
   "source": [
    "M1_arr = [5, 23, 98, 5, 7, 96, 123, 75, 1526]\n",
    "\n",
    "M2_arr = [5, 23, 98, 5, 7, 96, 123, 75, 1526, 458]"
   ]
  },
  {
   "cell_type": "code",
   "execution_count": 32,
   "metadata": {},
   "outputs": [
    {
     "name": "stdout",
     "output_type": "stream",
     "text": [
      "2.87 µs ± 221 ns per loop (mean ± std. dev. of 7 runs, 100,000 loops each)\n"
     ]
    }
   ],
   "source": [
    "%%timeit\n",
    "find_median(M1_arr)"
   ]
  },
  {
   "cell_type": "code",
   "execution_count": 33,
   "metadata": {},
   "outputs": [
    {
     "name": "stdout",
     "output_type": "stream",
     "text": [
      "3.99 µs ± 273 ns per loop (mean ± std. dev. of 7 runs, 100,000 loops each)\n"
     ]
    }
   ],
   "source": [
    "%%timeit\n",
    "find_median(M2_arr)"
   ]
  },
  {
   "cell_type": "markdown",
   "metadata": {},
   "source": [
    "Second method:"
   ]
  },
  {
   "cell_type": "code",
   "execution_count": 34,
   "metadata": {},
   "outputs": [],
   "source": [
    "def find_median2(median_array):\n",
    "    n = len(median_array)\n",
    "    median_array.sort()\n",
    "\n",
    "    if (n%2 == 0):\n",
    "        m1 = median_array[int(n/2)-1]\n",
    "        m2 = median_array[int(n/2)]\n",
    "        return (m1+m2)/2\n",
    "    \n",
    "    else:\n",
    "        m1 = median_array[int((n+1)/2)-1]\n",
    "        return m1"
   ]
  },
  {
   "cell_type": "code",
   "execution_count": 35,
   "metadata": {},
   "outputs": [
    {
     "name": "stdout",
     "output_type": "stream",
     "text": [
      "190 ns ± 7.06 ns per loop (mean ± std. dev. of 7 runs, 10,000,000 loops each)\n"
     ]
    }
   ],
   "source": [
    "%%timeit\n",
    "find_median2(M1_arr)"
   ]
  },
  {
   "cell_type": "code",
   "execution_count": 36,
   "metadata": {},
   "outputs": [
    {
     "name": "stdout",
     "output_type": "stream",
     "text": [
      "269 ns ± 11.8 ns per loop (mean ± std. dev. of 7 runs, 1,000,000 loops each)\n"
     ]
    }
   ],
   "source": [
    "%%timeit\n",
    "find_median2(M2_arr)"
   ]
  },
  {
   "cell_type": "code",
   "execution_count": 37,
   "metadata": {},
   "outputs": [
    {
     "name": "stdout",
     "output_type": "stream",
     "text": [
      "9.83 µs ± 781 ns per loop (mean ± std. dev. of 7 runs, 100,000 loops each)\n"
     ]
    }
   ],
   "source": [
    "%%timeit\n",
    "np.median(M1_arr)"
   ]
  },
  {
   "cell_type": "code",
   "execution_count": 38,
   "metadata": {},
   "outputs": [
    {
     "name": "stdout",
     "output_type": "stream",
     "text": [
      "9.19 µs ± 157 ns per loop (mean ± std. dev. of 7 runs, 100,000 loops each)\n"
     ]
    }
   ],
   "source": [
    "%%timeit\n",
    "np.median(M2_arr)"
   ]
  },
  {
   "cell_type": "markdown",
   "metadata": {},
   "source": [
    "Checking for the correctness of the written algorithms\n"
   ]
  },
  {
   "cell_type": "code",
   "execution_count": 39,
   "metadata": {},
   "outputs": [
    {
     "name": "stdout",
     "output_type": "stream",
     "text": [
      "75\n",
      "75\n",
      "75.0\n"
     ]
    }
   ],
   "source": [
    "print(find_median(M1_arr))\n",
    "print(find_median2(M1_arr))\n",
    "print(np.median(M1_arr))"
   ]
  },
  {
   "cell_type": "code",
   "execution_count": 40,
   "metadata": {},
   "outputs": [
    {
     "name": "stdout",
     "output_type": "stream",
     "text": [
      "85.5\n",
      "85.5\n",
      "85.5\n"
     ]
    }
   ],
   "source": [
    "print(find_median(M2_arr))\n",
    "print(find_median2(M2_arr))\n",
    "print(np.median(M2_arr))"
   ]
  },
  {
   "cell_type": "markdown",
   "metadata": {},
   "source": [
    "Interestingly, time taken by various algorithms:\n",
    "Method1 < Method2 < Numpy "
   ]
  },
  {
   "cell_type": "markdown",
   "metadata": {},
   "source": [
    "##### 4. What is the gradient of the following function with respect to x and y?\n",
    "$$ f = x^2y + y^3\\sin{x}$$"
   ]
  },
  {
   "cell_type": "markdown",
   "metadata": {},
   "source": [
    "Answer:\n",
    "$$\\frac{\\partial f}{\\partial x} = 2xy + y^3\\cos{x}$$\n",
    "$$\\frac{\\partial f}{\\partial y} = x^2 + 3y^2\\sin{x}$$\n"
   ]
  },
  {
   "cell_type": "markdown",
   "metadata": {},
   "source": [
    "##### 5. Use ```JAX``` to confirm the gradient evaluated by your method matches the analytical solution corresponding to a few random values of x and y."
   ]
  },
  {
   "cell_type": "code",
   "execution_count": 41,
   "metadata": {},
   "outputs": [],
   "source": [
    "import jax\n",
    "import jax.numpy as jnp\n",
    "import math"
   ]
  },
  {
   "cell_type": "code",
   "execution_count": 42,
   "metadata": {},
   "outputs": [],
   "source": [
    "def f(x, y):\n",
    "    return ((x**2)*y + (y**3)*jnp.sin(x))"
   ]
  },
  {
   "cell_type": "code",
   "execution_count": 43,
   "metadata": {},
   "outputs": [],
   "source": [
    "def f_x(x,y):\n",
    "    return ((2*x*y) + ((y**3)*jnp.cos(x)))"
   ]
  },
  {
   "cell_type": "code",
   "execution_count": 44,
   "metadata": {},
   "outputs": [],
   "source": [
    "def f_y(x,y):\n",
    "    return ((x**2) + (3*(y**2)*jnp.sin(x)))"
   ]
  },
  {
   "cell_type": "code",
   "execution_count": 45,
   "metadata": {},
   "outputs": [],
   "source": [
    "# Computing the gradient\n",
    "grad_fn = jax.grad(f, argnums=(0, 1))\n"
   ]
  },
  {
   "cell_type": "code",
   "execution_count": 46,
   "metadata": {},
   "outputs": [
    {
     "name": "stdout",
     "output_type": "stream",
     "text": [
      "Gradient at (x=2.0, y=3.0): (Array(0.7640352, dtype=float32, weak_type=True), Array(28.55103, dtype=float32, weak_type=True))\n"
     ]
    }
   ],
   "source": [
    "x_value = 2.0\n",
    "y_value = 3.0\n",
    "\n",
    "# Evaluate the gradient at the specified values\n",
    "gradient_at_values = grad_fn(x_value, y_value)\n",
    "\n",
    "print(f\"Gradient at (x={x_value}, y={y_value}): {gradient_at_values}\")"
   ]
  },
  {
   "cell_type": "code",
   "execution_count": 47,
   "metadata": {},
   "outputs": [
    {
     "name": "stdout",
     "output_type": "stream",
     "text": [
      "Gradient at (x=2.0, y=3.0) wrt x: 0.7640352249145508\n",
      "Gradient at (x=2.0, y=3.0) wrt y: 28.551029205322266\n"
     ]
    }
   ],
   "source": [
    "print(f\"Gradient at (x={x_value}, y={y_value}) wrt x: {f_x(x_value, y_value)}\")\n",
    "print(f\"Gradient at (x={x_value}, y={y_value}) wrt y: {f_y(x_value, y_value)}\")"
   ]
  },
  {
   "cell_type": "code",
   "execution_count": 48,
   "metadata": {},
   "outputs": [
    {
     "name": "stdout",
     "output_type": "stream",
     "text": [
      "Gradient at (x=42.0, y=8.42): (Array(468.5097, dtype=float32, weak_type=True), Array(1569.0658, dtype=float32, weak_type=True))\n"
     ]
    }
   ],
   "source": [
    "x_value = 42.0\n",
    "y_value = 8.42\n",
    "\n",
    "# Evaluate the gradient at the specified values\n",
    "gradient_at_values = grad_fn(x_value, y_value)\n",
    "\n",
    "print(f\"Gradient at (x={x_value}, y={y_value}): {gradient_at_values}\")"
   ]
  },
  {
   "cell_type": "code",
   "execution_count": 49,
   "metadata": {},
   "outputs": [
    {
     "name": "stdout",
     "output_type": "stream",
     "text": [
      "Gradient at (x=42.0, y=8.42) wrt x: 468.50970458984375\n",
      "Gradient at (x=42.0, y=8.42) wrt y: 1569.0657958984375\n"
     ]
    }
   ],
   "source": [
    "print(f\"Gradient at (x={x_value}, y={y_value}) wrt x: {f_x(x_value, y_value)}\")\n",
    "print(f\"Gradient at (x={x_value}, y={y_value}) wrt y: {f_y(x_value, y_value)}\")"
   ]
  },
  {
   "cell_type": "markdown",
   "metadata": {},
   "source": [
    "##### 6. Use ```sympy``` to confirm that you obtain the same gradient analytically."
   ]
  },
  {
   "cell_type": "code",
   "execution_count": 50,
   "metadata": {},
   "outputs": [],
   "source": [
    "from sympy import symbols, sin, diff"
   ]
  },
  {
   "cell_type": "code",
   "execution_count": 51,
   "metadata": {},
   "outputs": [
    {
     "name": "stdout",
     "output_type": "stream",
     "text": [
      "Gradient of f =  [2*x*y + y**3*cos(x), x**2 + 3*y**2*sin(x)]\n"
     ]
    }
   ],
   "source": [
    "# Defining the variables\n",
    "x, y = symbols('x y')\n",
    "\n",
    "# Defining the function\n",
    "f = (x**2)*y + (y**3)*sin(x)\n",
    "\n",
    "# Gradient computation\n",
    "grad_f = [diff(f, x), diff(f, y)]\n",
    "\n",
    "print(\"Gradient of f = \", grad_f)"
   ]
  },
  {
   "cell_type": "markdown",
   "metadata": {},
   "source": [
    "##### 7. Create a Python nested dictionary to represent hierarchical information. We want to store record of students and their marks. Something like:\n",
    "\n",
    "1. 2022\n",
    "    1. Branch 1\n",
    "        1. Roll Number: 1, Name: N, Marks:\n",
    "            1. Maths: 100, English: 70 …\n",
    "    2. Branch 2\n",
    "2. 2023\n",
    "    1. Branch 1\n",
    "    2. Branch 2\n",
    "3. 2024\n",
    "    1. Branch 1\n",
    "    2. Branch 2\n",
    "4. 2025\n",
    "    1. Branch 1\n",
    "    2. Branch 2\n"
   ]
  },
  {
   "cell_type": "code",
   "execution_count": 52,
   "metadata": {},
   "outputs": [
    {
     "name": "stdout",
     "output_type": "stream",
     "text": [
      "{2022: {'Branch 1': {'Roll Number': 1, 'Name': 'N', 'Marks': {'Maths': 100, 'English': 70}}, 'Branch 2': {'Roll Number': 1, 'Name': 'N', 'Marks': {'Maths': 100, 'English': 70}}}, 2023: {'Branch 1': {'Roll Number': 1, 'Name': 'N', 'Marks': {'Maths': 100, 'English': 70}}, 'Branch 2': {'Roll Number': 1, 'Name': 'N', 'Marks': {'Maths': 100, 'English': 70}}}, 2024: {'Branch 1': {'Roll Number': 1, 'Name': 'N', 'Marks': {'Maths': 100, 'English': 70}}, 'Branch 2': {'Roll Number': 1, 'Name': 'N', 'Marks': {'Maths': 100, 'English': 70}}}, 2025: {'Branch 1': {'Roll Number': 1, 'Name': 'N', 'Marks': {'Maths': 100, 'English': 70}}, 'Branch 2': {'Roll Number': 1, 'Name': 'N', 'Marks': {'Maths': 100, 'English': 70}}}}\n"
     ]
    }
   ],
   "source": [
    "year_dict = {2022:{\"Branch 1\": {\"Roll Number\": 1, \"Name\": \"N\", \"Marks\":{\"Maths\":100, \"English\":70}} , \"Branch 2\": {\"Roll Number\": 1, \"Name\": \"N\", \"Marks\":{\"Maths\":100, \"English\":70}}}, \n",
    "                2023:{\"Branch 1\": {\"Roll Number\": 1, \"Name\": \"N\", \"Marks\":{\"Maths\":100, \"English\":70}} , \"Branch 2\": {\"Roll Number\": 1, \"Name\": \"N\", \"Marks\":{\"Maths\":100, \"English\":70}}}, \n",
    "                2024:{\"Branch 1\": {\"Roll Number\": 1, \"Name\": \"N\", \"Marks\":{\"Maths\":100, \"English\":70}} , \"Branch 2\": {\"Roll Number\": 1, \"Name\": \"N\", \"Marks\":{\"Maths\":100, \"English\":70}}}, \n",
    "                2025:{\"Branch 1\": {\"Roll Number\": 1, \"Name\": \"N\", \"Marks\":{\"Maths\":100, \"English\":70}} , \"Branch 2\": {\"Roll Number\": 1, \"Name\": \"N\", \"Marks\":{\"Maths\":100, \"English\":70}}}}\n",
    "\n",
    "print(year_dict)"
   ]
  },
  {
   "cell_type": "markdown",
   "metadata": {},
   "source": [
    "##### 8. Store the same information using Python classes. We have an overall database which is a list of year objects. Each year contains a list of branches. Each branch contains a list of students. Each student has some properties like name, roll number and has marks in some subjects."
   ]
  },
  {
   "cell_type": "code",
   "execution_count": 53,
   "metadata": {},
   "outputs": [],
   "source": [
    "class marks:\n",
    "    def __init__(self, english_mark = None, maths_marks = None):\n",
    "        self.English = english_mark\n",
    "        self.Maths = maths_marks\n",
    "\n",
    "class student:\n",
    "    def __init__(self, name_str = None, roll_num = None, marks_class = None):\n",
    "        self.Name = name_str\n",
    "        self.RollNumber = roll_num\n",
    "        self.Marks = marks_class\n",
    "\n",
    "class branch:\n",
    "    def __init__(self, branch_num = None, student_lst = None):\n",
    "        self.Branch = branch_num\n",
    "        self.StudentList = student_lst      \n",
    "\n",
    "class year:\n",
    "    def __init__(self, year_num = None, branch_lst = None):\n",
    "        self.Year = year_num\n",
    "        self.Branch = branch_lst\n",
    "\n",
    "YearDatabase = []\n"
   ]
  },
  {
   "cell_type": "code",
   "execution_count": 54,
   "metadata": {},
   "outputs": [],
   "source": [
    "m1 = marks()\n",
    "m1.English = 100\n",
    "m1.Maths = 70\n",
    "\n",
    "s1 = student()\n",
    "s1.RollNumber = 1\n",
    "s1.Name = \"N\"\n",
    "s1.Marks = m1\n",
    "\n",
    "B1 = branch()\n",
    "B1.Branch = 1\n",
    "B1.StudentList = [s1]\n",
    "\n",
    "B2 = branch()\n",
    "B2.Branch = 2\n",
    "\n",
    "y_2022 = year()\n",
    "y_2022.Year = 2022\n",
    "y_2022.Branch = [B1, B2]\n",
    "\n",
    "YearDatabase.append(y_2022)"
   ]
  },
  {
   "cell_type": "code",
   "execution_count": 55,
   "metadata": {},
   "outputs": [
    {
     "data": {
      "text/plain": [
       "'N'"
      ]
     },
     "execution_count": 55,
     "metadata": {},
     "output_type": "execute_result"
    }
   ],
   "source": [
    "#Accessing info\n",
    "YearDatabase[0].Branch[0].StudentList[0].Name"
   ]
  },
  {
   "cell_type": "markdown",
   "metadata": {},
   "source": [
    "##### 9. Using matplotlib plot the following functions on the domain: x = 0.5 to 100.0 in steps of 0.5."
   ]
  },
  {
   "cell_type": "markdown",
   "metadata": {},
   "source": [
    "1. $$y = x$$"
   ]
  },
  {
   "cell_type": "code",
   "execution_count": 56,
   "metadata": {},
   "outputs": [
    {
     "data": {
      "text/plain": [
       "<contextlib.ExitStack at 0x2d29f2d88b0>"
      ]
     },
     "execution_count": 56,
     "metadata": {},
     "output_type": "execute_result"
    }
   ],
   "source": [
    "import matplotlib.pyplot as plt\n",
    "import seaborn as sns\n",
    "plt.xkcd()"
   ]
  },
  {
   "cell_type": "code",
   "execution_count": 57,
   "metadata": {},
   "outputs": [
    {
     "data": {
      "text/plain": [
       "Text(0.5, 1.0, 'y = x')"
      ]
     },
     "execution_count": 57,
     "metadata": {},
     "output_type": "execute_result"
    },
    {
     "name": "stderr",
     "output_type": "stream",
     "text": [
      "findfont: Font family 'xkcd' not found.\n",
      "findfont: Font family 'xkcd Script' not found.\n",
      "findfont: Font family 'Humor Sans' not found.\n",
      "findfont: Font family 'Comic Neue' not found.\n",
      "findfont: Font family 'xkcd' not found.\n",
      "findfont: Font family 'xkcd Script' not found.\n",
      "findfont: Font family 'Humor Sans' not found.\n",
      "findfont: Font family 'Comic Neue' not found.\n",
      "findfont: Font family 'xkcd' not found.\n",
      "findfont: Font family 'xkcd Script' not found.\n",
      "findfont: Font family 'Humor Sans' not found.\n",
      "findfont: Font family 'Comic Neue' not found.\n",
      "findfont: Font family 'xkcd' not found.\n",
      "findfont: Font family 'xkcd Script' not found.\n",
      "findfont: Font family 'Humor Sans' not found.\n",
      "findfont: Font family 'Comic Neue' not found.\n",
      "findfont: Font family 'xkcd' not found.\n",
      "findfont: Font family 'xkcd Script' not found.\n",
      "findfont: Font family 'Humor Sans' not found.\n",
      "findfont: Font family 'Comic Neue' not found.\n",
      "findfont: Font family 'xkcd' not found.\n",
      "findfont: Font family 'xkcd Script' not found.\n",
      "findfont: Font family 'Humor Sans' not found.\n",
      "findfont: Font family 'Comic Neue' not found.\n",
      "findfont: Font family 'xkcd' not found.\n",
      "findfont: Font family 'xkcd Script' not found.\n",
      "findfont: Font family 'Humor Sans' not found.\n",
      "findfont: Font family 'Comic Neue' not found.\n",
      "findfont: Font family 'xkcd' not found.\n",
      "findfont: Font family 'xkcd Script' not found.\n",
      "findfont: Font family 'Humor Sans' not found.\n",
      "findfont: Font family 'Comic Neue' not found.\n",
      "findfont: Font family 'xkcd' not found.\n",
      "findfont: Font family 'xkcd Script' not found.\n",
      "findfont: Font family 'Humor Sans' not found.\n",
      "findfont: Font family 'Comic Neue' not found.\n",
      "findfont: Font family 'xkcd' not found.\n",
      "findfont: Font family 'xkcd Script' not found.\n",
      "findfont: Font family 'Humor Sans' not found.\n",
      "findfont: Font family 'Comic Neue' not found.\n",
      "findfont: Font family 'xkcd' not found.\n",
      "findfont: Font family 'xkcd Script' not found.\n",
      "findfont: Font family 'Humor Sans' not found.\n",
      "findfont: Font family 'Comic Neue' not found.\n",
      "findfont: Font family 'xkcd' not found.\n",
      "findfont: Font family 'xkcd Script' not found.\n",
      "findfont: Font family 'Humor Sans' not found.\n",
      "findfont: Font family 'Comic Neue' not found.\n",
      "findfont: Font family 'xkcd' not found.\n",
      "findfont: Font family 'xkcd Script' not found.\n",
      "findfont: Font family 'Humor Sans' not found.\n",
      "findfont: Font family 'Comic Neue' not found.\n",
      "findfont: Font family 'xkcd' not found.\n",
      "findfont: Font family 'xkcd Script' not found.\n",
      "findfont: Font family 'Humor Sans' not found.\n",
      "findfont: Font family 'Comic Neue' not found.\n",
      "findfont: Font family 'xkcd' not found.\n",
      "findfont: Font family 'xkcd Script' not found.\n",
      "findfont: Font family 'Humor Sans' not found.\n",
      "findfont: Font family 'Comic Neue' not found.\n",
      "findfont: Font family 'xkcd' not found.\n",
      "findfont: Font family 'xkcd Script' not found.\n",
      "findfont: Font family 'Humor Sans' not found.\n",
      "findfont: Font family 'Comic Neue' not found.\n",
      "findfont: Font family 'xkcd' not found.\n",
      "findfont: Font family 'xkcd Script' not found.\n",
      "findfont: Font family 'Humor Sans' not found.\n",
      "findfont: Font family 'Comic Neue' not found.\n",
      "findfont: Font family 'xkcd' not found.\n",
      "findfont: Font family 'xkcd Script' not found.\n",
      "findfont: Font family 'Humor Sans' not found.\n",
      "findfont: Font family 'Comic Neue' not found.\n",
      "findfont: Font family 'xkcd' not found.\n",
      "findfont: Font family 'xkcd Script' not found.\n",
      "findfont: Font family 'Humor Sans' not found.\n",
      "findfont: Font family 'Comic Neue' not found.\n",
      "findfont: Font family 'xkcd' not found.\n",
      "findfont: Font family 'xkcd Script' not found.\n",
      "findfont: Font family 'Humor Sans' not found.\n",
      "findfont: Font family 'Comic Neue' not found.\n",
      "findfont: Font family 'xkcd' not found.\n",
      "findfont: Font family 'xkcd Script' not found.\n",
      "findfont: Font family 'Humor Sans' not found.\n",
      "findfont: Font family 'Comic Neue' not found.\n",
      "findfont: Font family 'xkcd' not found.\n",
      "findfont: Font family 'xkcd Script' not found.\n",
      "findfont: Font family 'Humor Sans' not found.\n",
      "findfont: Font family 'Comic Neue' not found.\n",
      "findfont: Font family 'xkcd' not found.\n",
      "findfont: Font family 'xkcd Script' not found.\n",
      "findfont: Font family 'Humor Sans' not found.\n",
      "findfont: Font family 'Comic Neue' not found.\n",
      "findfont: Font family 'xkcd' not found.\n",
      "findfont: Font family 'xkcd Script' not found.\n",
      "findfont: Font family 'Humor Sans' not found.\n",
      "findfont: Font family 'Comic Neue' not found.\n",
      "findfont: Font family 'xkcd' not found.\n",
      "findfont: Font family 'xkcd Script' not found.\n",
      "findfont: Font family 'Humor Sans' not found.\n",
      "findfont: Font family 'Comic Neue' not found.\n",
      "findfont: Font family 'xkcd' not found.\n",
      "findfont: Font family 'xkcd Script' not found.\n",
      "findfont: Font family 'Humor Sans' not found.\n",
      "findfont: Font family 'Comic Neue' not found.\n",
      "findfont: Font family 'xkcd' not found.\n",
      "findfont: Font family 'xkcd Script' not found.\n",
      "findfont: Font family 'Humor Sans' not found.\n",
      "findfont: Font family 'Comic Neue' not found.\n",
      "findfont: Font family 'xkcd' not found.\n",
      "findfont: Font family 'xkcd Script' not found.\n",
      "findfont: Font family 'Humor Sans' not found.\n",
      "findfont: Font family 'Comic Neue' not found.\n",
      "findfont: Font family 'xkcd' not found.\n",
      "findfont: Font family 'xkcd Script' not found.\n",
      "findfont: Font family 'Humor Sans' not found.\n",
      "findfont: Font family 'Comic Neue' not found.\n",
      "findfont: Font family 'xkcd' not found.\n",
      "findfont: Font family 'xkcd Script' not found.\n",
      "findfont: Font family 'Humor Sans' not found.\n",
      "findfont: Font family 'Comic Neue' not found.\n",
      "findfont: Font family 'xkcd' not found.\n",
      "findfont: Font family 'xkcd Script' not found.\n",
      "findfont: Font family 'Humor Sans' not found.\n",
      "findfont: Font family 'Comic Neue' not found.\n",
      "findfont: Font family 'xkcd' not found.\n",
      "findfont: Font family 'xkcd Script' not found.\n",
      "findfont: Font family 'Humor Sans' not found.\n",
      "findfont: Font family 'Comic Neue' not found.\n",
      "findfont: Font family 'xkcd' not found.\n",
      "findfont: Font family 'xkcd Script' not found.\n",
      "findfont: Font family 'Humor Sans' not found.\n",
      "findfont: Font family 'Comic Neue' not found.\n",
      "findfont: Font family 'xkcd' not found.\n",
      "findfont: Font family 'xkcd Script' not found.\n",
      "findfont: Font family 'Humor Sans' not found.\n",
      "findfont: Font family 'Comic Neue' not found.\n",
      "findfont: Font family 'xkcd' not found.\n",
      "findfont: Font family 'xkcd Script' not found.\n",
      "findfont: Font family 'Humor Sans' not found.\n",
      "findfont: Font family 'Comic Neue' not found.\n"
     ]
    },
    {
     "name": "stderr",
     "output_type": "stream",
     "text": [
      "findfont: Font family 'xkcd' not found.\n",
      "findfont: Font family 'xkcd Script' not found.\n",
      "findfont: Font family 'Humor Sans' not found.\n",
      "findfont: Font family 'Comic Neue' not found.\n",
      "findfont: Font family 'xkcd' not found.\n",
      "findfont: Font family 'xkcd Script' not found.\n",
      "findfont: Font family 'Humor Sans' not found.\n",
      "findfont: Font family 'Comic Neue' not found.\n",
      "findfont: Font family 'xkcd' not found.\n",
      "findfont: Font family 'xkcd Script' not found.\n",
      "findfont: Font family 'Humor Sans' not found.\n",
      "findfont: Font family 'Comic Neue' not found.\n",
      "findfont: Font family 'xkcd' not found.\n",
      "findfont: Font family 'xkcd Script' not found.\n",
      "findfont: Font family 'Humor Sans' not found.\n",
      "findfont: Font family 'Comic Neue' not found.\n",
      "findfont: Font family 'xkcd' not found.\n",
      "findfont: Font family 'xkcd Script' not found.\n",
      "findfont: Font family 'Humor Sans' not found.\n",
      "findfont: Font family 'Comic Neue' not found.\n",
      "findfont: Font family 'xkcd' not found.\n",
      "findfont: Font family 'xkcd Script' not found.\n",
      "findfont: Font family 'Humor Sans' not found.\n",
      "findfont: Font family 'Comic Neue' not found.\n",
      "findfont: Font family 'xkcd' not found.\n",
      "findfont: Font family 'xkcd Script' not found.\n",
      "findfont: Font family 'Humor Sans' not found.\n",
      "findfont: Font family 'Comic Neue' not found.\n",
      "findfont: Font family 'xkcd' not found.\n",
      "findfont: Font family 'xkcd Script' not found.\n",
      "findfont: Font family 'Humor Sans' not found.\n",
      "findfont: Font family 'Comic Neue' not found.\n",
      "findfont: Font family 'xkcd' not found.\n",
      "findfont: Font family 'xkcd Script' not found.\n",
      "findfont: Font family 'Humor Sans' not found.\n",
      "findfont: Font family 'Comic Neue' not found.\n",
      "findfont: Font family 'xkcd' not found.\n",
      "findfont: Font family 'xkcd Script' not found.\n",
      "findfont: Font family 'Humor Sans' not found.\n",
      "findfont: Font family 'Comic Neue' not found.\n",
      "findfont: Font family 'xkcd' not found.\n",
      "findfont: Font family 'xkcd Script' not found.\n",
      "findfont: Font family 'Humor Sans' not found.\n",
      "findfont: Font family 'Comic Neue' not found.\n",
      "findfont: Font family 'xkcd' not found.\n",
      "findfont: Font family 'xkcd Script' not found.\n",
      "findfont: Font family 'Humor Sans' not found.\n",
      "findfont: Font family 'Comic Neue' not found.\n",
      "findfont: Font family 'xkcd' not found.\n",
      "findfont: Font family 'xkcd Script' not found.\n",
      "findfont: Font family 'Humor Sans' not found.\n",
      "findfont: Font family 'Comic Neue' not found.\n",
      "findfont: Font family 'xkcd' not found.\n",
      "findfont: Font family 'xkcd Script' not found.\n",
      "findfont: Font family 'Humor Sans' not found.\n",
      "findfont: Font family 'Comic Neue' not found.\n",
      "findfont: Font family 'xkcd' not found.\n",
      "findfont: Font family 'xkcd Script' not found.\n",
      "findfont: Font family 'Humor Sans' not found.\n",
      "findfont: Font family 'Comic Neue' not found.\n",
      "findfont: Font family 'xkcd' not found.\n",
      "findfont: Font family 'xkcd Script' not found.\n",
      "findfont: Font family 'Humor Sans' not found.\n",
      "findfont: Font family 'Comic Neue' not found.\n",
      "findfont: Font family 'xkcd' not found.\n",
      "findfont: Font family 'xkcd Script' not found.\n",
      "findfont: Font family 'Humor Sans' not found.\n",
      "findfont: Font family 'Comic Neue' not found.\n",
      "findfont: Font family 'xkcd' not found.\n",
      "findfont: Font family 'xkcd Script' not found.\n",
      "findfont: Font family 'Humor Sans' not found.\n",
      "findfont: Font family 'Comic Neue' not found.\n",
      "findfont: Font family 'xkcd' not found.\n",
      "findfont: Font family 'xkcd Script' not found.\n",
      "findfont: Font family 'Humor Sans' not found.\n",
      "findfont: Font family 'Comic Neue' not found.\n",
      "findfont: Font family 'xkcd' not found.\n",
      "findfont: Font family 'xkcd Script' not found.\n",
      "findfont: Font family 'Humor Sans' not found.\n",
      "findfont: Font family 'Comic Neue' not found.\n",
      "findfont: Font family 'xkcd' not found.\n",
      "findfont: Font family 'xkcd Script' not found.\n",
      "findfont: Font family 'Humor Sans' not found.\n",
      "findfont: Font family 'Comic Neue' not found.\n",
      "findfont: Font family 'xkcd' not found.\n",
      "findfont: Font family 'xkcd Script' not found.\n",
      "findfont: Font family 'Humor Sans' not found.\n",
      "findfont: Font family 'Comic Neue' not found.\n"
     ]
    },
    {
     "data": {
      "image/png": "[encoded data removed]",
      "text/plain": [
       "<Figure size 640x480 with 1 Axes>"
      ]
     },
     "metadata": {},
     "output_type": "display_data"
    }
   ],
   "source": [
    "x = np.arange(start=0.5, stop=100.5, step=0.5)\n",
    "y = x\n",
    "plt.plot(x,y)\n",
    "plt.show\n",
    "plt.title(\"y = x\")"
   ]
  },
  {
   "cell_type": "markdown",
   "metadata": {},
   "source": [
    "2. $$y = x^2$$"
   ]
  },
  {
   "cell_type": "code",
   "execution_count": 58,
   "metadata": {},
   "outputs": [
    {
     "data": {
      "text/plain": [
       "<function matplotlib.pyplot.show(close=None, block=None)>"
      ]
     },
     "execution_count": 58,
     "metadata": {},
     "output_type": "execute_result"
    },
    {
     "name": "stderr",
     "output_type": "stream",
     "text": [
      "findfont: Font family 'xkcd' not found.\n",
      "findfont: Font family 'xkcd Script' not found.\n",
      "findfont: Font family 'Humor Sans' not found.\n",
      "findfont: Font family 'Comic Neue' not found.\n",
      "findfont: Font family 'xkcd' not found.\n",
      "findfont: Font family 'xkcd Script' not found.\n",
      "findfont: Font family 'Humor Sans' not found.\n",
      "findfont: Font family 'Comic Neue' not found.\n",
      "findfont: Font family 'xkcd' not found.\n",
      "findfont: Font family 'xkcd Script' not found.\n",
      "findfont: Font family 'Humor Sans' not found.\n",
      "findfont: Font family 'Comic Neue' not found.\n",
      "findfont: Font family 'xkcd' not found.\n",
      "findfont: Font family 'xkcd Script' not found.\n",
      "findfont: Font family 'Humor Sans' not found.\n",
      "findfont: Font family 'Comic Neue' not found.\n"
     ]
    },
    {
     "name": "stderr",
     "output_type": "stream",
     "text": [
      "findfont: Font family 'xkcd' not found.\n",
      "findfont: Font family 'xkcd Script' not found.\n",
      "findfont: Font family 'Humor Sans' not found.\n",
      "findfont: Font family 'Comic Neue' not found.\n",
      "findfont: Font family 'xkcd' not found.\n",
      "findfont: Font family 'xkcd Script' not found.\n",
      "findfont: Font family 'Humor Sans' not found.\n",
      "findfont: Font family 'Comic Neue' not found.\n",
      "findfont: Font family 'xkcd' not found.\n",
      "findfont: Font family 'xkcd Script' not found.\n",
      "findfont: Font family 'Humor Sans' not found.\n",
      "findfont: Font family 'Comic Neue' not found.\n",
      "findfont: Font family 'xkcd' not found.\n",
      "findfont: Font family 'xkcd Script' not found.\n",
      "findfont: Font family 'Humor Sans' not found.\n",
      "findfont: Font family 'Comic Neue' not found.\n",
      "findfont: Font family 'xkcd' not found.\n",
      "findfont: Font family 'xkcd Script' not found.\n",
      "findfont: Font family 'Humor Sans' not found.\n",
      "findfont: Font family 'Comic Neue' not found.\n",
      "findfont: Font family 'xkcd' not found.\n",
      "findfont: Font family 'xkcd Script' not found.\n",
      "findfont: Font family 'Humor Sans' not found.\n",
      "findfont: Font family 'Comic Neue' not found.\n",
      "findfont: Font family 'xkcd' not found.\n",
      "findfont: Font family 'xkcd Script' not found.\n",
      "findfont: Font family 'Humor Sans' not found.\n",
      "findfont: Font family 'Comic Neue' not found.\n",
      "findfont: Font family 'xkcd' not found.\n",
      "findfont: Font family 'xkcd Script' not found.\n",
      "findfont: Font family 'Humor Sans' not found.\n",
      "findfont: Font family 'Comic Neue' not found.\n",
      "findfont: Font family 'xkcd' not found.\n",
      "findfont: Font family 'xkcd Script' not found.\n",
      "findfont: Font family 'Humor Sans' not found.\n",
      "findfont: Font family 'Comic Neue' not found.\n",
      "findfont: Font family 'xkcd' not found.\n",
      "findfont: Font family 'xkcd Script' not found.\n",
      "findfont: Font family 'Humor Sans' not found.\n",
      "findfont: Font family 'Comic Neue' not found.\n",
      "findfont: Font family 'xkcd' not found.\n",
      "findfont: Font family 'xkcd Script' not found.\n",
      "findfont: Font family 'Humor Sans' not found.\n",
      "findfont: Font family 'Comic Neue' not found.\n",
      "findfont: Font family 'xkcd' not found.\n",
      "findfont: Font family 'xkcd Script' not found.\n",
      "findfont: Font family 'Humor Sans' not found.\n",
      "findfont: Font family 'Comic Neue' not found.\n",
      "findfont: Font family 'xkcd' not found.\n",
      "findfont: Font family 'xkcd Script' not found.\n",
      "findfont: Font family 'Humor Sans' not found.\n",
      "findfont: Font family 'Comic Neue' not found.\n",
      "findfont: Font family 'xkcd' not found.\n",
      "findfont: Font family 'xkcd Script' not found.\n",
      "findfont: Font family 'Humor Sans' not found.\n",
      "findfont: Font family 'Comic Neue' not found.\n",
      "findfont: Font family 'xkcd' not found.\n",
      "findfont: Font family 'xkcd Script' not found.\n",
      "findfont: Font family 'Humor Sans' not found.\n",
      "findfont: Font family 'Comic Neue' not found.\n",
      "findfont: Font family 'xkcd' not found.\n",
      "findfont: Font family 'xkcd Script' not found.\n",
      "findfont: Font family 'Humor Sans' not found.\n",
      "findfont: Font family 'Comic Neue' not found.\n",
      "findfont: Font family 'xkcd' not found.\n",
      "findfont: Font family 'xkcd Script' not found.\n",
      "findfont: Font family 'Humor Sans' not found.\n",
      "findfont: Font family 'Comic Neue' not found.\n",
      "findfont: Font family 'xkcd' not found.\n",
      "findfont: Font family 'xkcd Script' not found.\n",
      "findfont: Font family 'Humor Sans' not found.\n",
      "findfont: Font family 'Comic Neue' not found.\n",
      "findfont: Font family 'xkcd' not found.\n",
      "findfont: Font family 'xkcd Script' not found.\n",
      "findfont: Font family 'Humor Sans' not found.\n",
      "findfont: Font family 'Comic Neue' not found.\n",
      "findfont: Font family 'xkcd' not found.\n",
      "findfont: Font family 'xkcd Script' not found.\n",
      "findfont: Font family 'Humor Sans' not found.\n",
      "findfont: Font family 'Comic Neue' not found.\n",
      "findfont: Font family 'xkcd' not found.\n",
      "findfont: Font family 'xkcd Script' not found.\n",
      "findfont: Font family 'Humor Sans' not found.\n",
      "findfont: Font family 'Comic Neue' not found.\n",
      "findfont: Font family 'xkcd' not found.\n",
      "findfont: Font family 'xkcd Script' not found.\n",
      "findfont: Font family 'Humor Sans' not found.\n",
      "findfont: Font family 'Comic Neue' not found.\n",
      "findfont: Font family 'xkcd' not found.\n",
      "findfont: Font family 'xkcd Script' not found.\n",
      "findfont: Font family 'Humor Sans' not found.\n",
      "findfont: Font family 'Comic Neue' not found.\n",
      "findfont: Font family 'xkcd' not found.\n",
      "findfont: Font family 'xkcd Script' not found.\n",
      "findfont: Font family 'Humor Sans' not found.\n",
      "findfont: Font family 'Comic Neue' not found.\n",
      "findfont: Font family 'xkcd' not found.\n",
      "findfont: Font family 'xkcd Script' not found.\n",
      "findfont: Font family 'Humor Sans' not found.\n",
      "findfont: Font family 'Comic Neue' not found.\n",
      "findfont: Font family 'xkcd' not found.\n",
      "findfont: Font family 'xkcd Script' not found.\n",
      "findfont: Font family 'Humor Sans' not found.\n",
      "findfont: Font family 'Comic Neue' not found.\n",
      "findfont: Font family 'xkcd' not found.\n",
      "findfont: Font family 'xkcd Script' not found.\n",
      "findfont: Font family 'Humor Sans' not found.\n",
      "findfont: Font family 'Comic Neue' not found.\n",
      "findfont: Font family 'xkcd' not found.\n",
      "findfont: Font family 'xkcd Script' not found.\n",
      "findfont: Font family 'Humor Sans' not found.\n",
      "findfont: Font family 'Comic Neue' not found.\n",
      "findfont: Font family 'xkcd' not found.\n",
      "findfont: Font family 'xkcd Script' not found.\n",
      "findfont: Font family 'Humor Sans' not found.\n",
      "findfont: Font family 'Comic Neue' not found.\n",
      "findfont: Font family 'xkcd' not found.\n",
      "findfont: Font family 'xkcd Script' not found.\n",
      "findfont: Font family 'Humor Sans' not found.\n",
      "findfont: Font family 'Comic Neue' not found.\n",
      "findfont: Font family 'xkcd' not found.\n",
      "findfont: Font family 'xkcd Script' not found.\n",
      "findfont: Font family 'Humor Sans' not found.\n",
      "findfont: Font family 'Comic Neue' not found.\n",
      "findfont: Font family 'xkcd' not found.\n",
      "findfont: Font family 'xkcd Script' not found.\n",
      "findfont: Font family 'Humor Sans' not found.\n",
      "findfont: Font family 'Comic Neue' not found.\n",
      "findfont: Font family 'xkcd' not found.\n",
      "findfont: Font family 'xkcd Script' not found.\n",
      "findfont: Font family 'Humor Sans' not found.\n",
      "findfont: Font family 'Comic Neue' not found.\n",
      "findfont: Font family 'xkcd' not found.\n",
      "findfont: Font family 'xkcd Script' not found.\n",
      "findfont: Font family 'Humor Sans' not found.\n",
      "findfont: Font family 'Comic Neue' not found.\n",
      "findfont: Font family 'xkcd' not found.\n",
      "findfont: Font family 'xkcd Script' not found.\n",
      "findfont: Font family 'Humor Sans' not found.\n",
      "findfont: Font family 'Comic Neue' not found.\n",
      "findfont: Font family 'xkcd' not found.\n",
      "findfont: Font family 'xkcd Script' not found.\n",
      "findfont: Font family 'Humor Sans' not found.\n",
      "findfont: Font family 'Comic Neue' not found.\n",
      "findfont: Font family 'xkcd' not found.\n",
      "findfont: Font family 'xkcd Script' not found.\n",
      "findfont: Font family 'Humor Sans' not found.\n",
      "findfont: Font family 'Comic Neue' not found.\n",
      "findfont: Font family 'xkcd' not found.\n",
      "findfont: Font family 'xkcd Script' not found.\n",
      "findfont: Font family 'Humor Sans' not found.\n",
      "findfont: Font family 'Comic Neue' not found.\n",
      "findfont: Font family 'xkcd' not found.\n",
      "findfont: Font family 'xkcd Script' not found.\n",
      "findfont: Font family 'Humor Sans' not found.\n",
      "findfont: Font family 'Comic Neue' not found.\n",
      "findfont: Font family 'xkcd' not found.\n",
      "findfont: Font family 'xkcd Script' not found.\n",
      "findfont: Font family 'Humor Sans' not found.\n",
      "findfont: Font family 'Comic Neue' not found.\n",
      "findfont: Font family 'xkcd' not found.\n",
      "findfont: Font family 'xkcd Script' not found.\n",
      "findfont: Font family 'Humor Sans' not found.\n",
      "findfont: Font family 'Comic Neue' not found.\n",
      "findfont: Font family 'xkcd' not found.\n",
      "findfont: Font family 'xkcd Script' not found.\n",
      "findfont: Font family 'Humor Sans' not found.\n",
      "findfont: Font family 'Comic Neue' not found.\n",
      "findfont: Font family 'xkcd' not found.\n",
      "findfont: Font family 'xkcd Script' not found.\n",
      "findfont: Font family 'Humor Sans' not found.\n",
      "findfont: Font family 'Comic Neue' not found.\n",
      "findfont: Font family 'xkcd' not found.\n",
      "findfont: Font family 'xkcd Script' not found.\n",
      "findfont: Font family 'Humor Sans' not found.\n",
      "findfont: Font family 'Comic Neue' not found.\n",
      "findfont: Font family 'xkcd' not found.\n",
      "findfont: Font family 'xkcd Script' not found.\n",
      "findfont: Font family 'Humor Sans' not found.\n",
      "findfont: Font family 'Comic Neue' not found.\n",
      "findfont: Font family 'xkcd' not found.\n",
      "findfont: Font family 'xkcd Script' not found.\n",
      "findfont: Font family 'Humor Sans' not found.\n",
      "findfont: Font family 'Comic Neue' not found.\n",
      "findfont: Font family 'xkcd' not found.\n",
      "findfont: Font family 'xkcd Script' not found.\n",
      "findfont: Font family 'Humor Sans' not found.\n",
      "findfont: Font family 'Comic Neue' not found.\n",
      "findfont: Font family 'xkcd' not found.\n",
      "findfont: Font family 'xkcd Script' not found.\n",
      "findfont: Font family 'Humor Sans' not found.\n",
      "findfont: Font family 'Comic Neue' not found.\n",
      "findfont: Font family 'xkcd' not found.\n",
      "findfont: Font family 'xkcd Script' not found.\n",
      "findfont: Font family 'Humor Sans' not found.\n",
      "findfont: Font family 'Comic Neue' not found.\n",
      "findfont: Font family 'xkcd' not found.\n",
      "findfont: Font family 'xkcd Script' not found.\n",
      "findfont: Font family 'Humor Sans' not found.\n",
      "findfont: Font family 'Comic Neue' not found.\n",
      "findfont: Font family 'xkcd' not found.\n",
      "findfont: Font family 'xkcd Script' not found.\n",
      "findfont: Font family 'Humor Sans' not found.\n",
      "findfont: Font family 'Comic Neue' not found.\n",
      "findfont: Font family 'xkcd' not found.\n",
      "findfont: Font family 'xkcd Script' not found.\n",
      "findfont: Font family 'Humor Sans' not found.\n",
      "findfont: Font family 'Comic Neue' not found.\n",
      "findfont: Font family 'xkcd' not found.\n",
      "findfont: Font family 'xkcd Script' not found.\n",
      "findfont: Font family 'Humor Sans' not found.\n",
      "findfont: Font family 'Comic Neue' not found.\n",
      "findfont: Font family 'xkcd' not found.\n",
      "findfont: Font family 'xkcd Script' not found.\n",
      "findfont: Font family 'Humor Sans' not found.\n",
      "findfont: Font family 'Comic Neue' not found.\n",
      "findfont: Font family 'xkcd' not found.\n",
      "findfont: Font family 'xkcd Script' not found.\n",
      "findfont: Font family 'Humor Sans' not found.\n",
      "findfont: Font family 'Comic Neue' not found.\n",
      "findfont: Font family 'xkcd' not found.\n",
      "findfont: Font family 'xkcd Script' not found.\n",
      "findfont: Font family 'Humor Sans' not found.\n",
      "findfont: Font family 'Comic Neue' not found.\n",
      "findfont: Font family 'xkcd' not found.\n",
      "findfont: Font family 'xkcd Script' not found.\n",
      "findfont: Font family 'Humor Sans' not found.\n",
      "findfont: Font family 'Comic Neue' not found.\n",
      "findfont: Font family 'xkcd' not found.\n",
      "findfont: Font family 'xkcd Script' not found.\n",
      "findfont: Font family 'Humor Sans' not found.\n",
      "findfont: Font family 'Comic Neue' not found.\n"
     ]
    },
    {
     "data": {
      "image/png": "[encoded data removed]",
      "text/plain": [
       "<Figure size 640x480 with 1 Axes>"
      ]
     },
     "metadata": {},
     "output_type": "display_data"
    }
   ],
   "source": [
    "x = np.arange(0.5, 100.5, 0.5)\n",
    "y = x**2\n",
    "plt.plot(x,y)\n",
    "plt.title(\"$y = x^2$\")\n",
    "plt.show"
   ]
  },
  {
   "cell_type": "markdown",
   "metadata": {},
   "source": [
    "3. $$y = \\frac{x^3}{100}$$"
   ]
  },
  {
   "cell_type": "code",
   "execution_count": 59,
   "metadata": {},
   "outputs": [
    {
     "data": {
      "text/plain": [
       "<function matplotlib.pyplot.show(close=None, block=None)>"
      ]
     },
     "execution_count": 59,
     "metadata": {},
     "output_type": "execute_result"
    },
    {
     "data": {
      "image/png": "[encoded data removed]",
      "text/plain": [
       "<Figure size 640x480 with 1 Axes>"
      ]
     },
     "metadata": {},
     "output_type": "display_data"
    }
   ],
   "source": [
    "plt.rcdefaults()\n",
    "sns.set()\n",
    "x = np.arange(0.5, 100.5, 0.5)\n",
    "y = (x**3)/100\n",
    "plt.plot(x,y)\n",
    "plt.show"
   ]
  },
  {
   "cell_type": "markdown",
   "metadata": {},
   "source": [
    "4. $$y = \\sin{(x)}$$"
   ]
  },
  {
   "cell_type": "code",
   "execution_count": 60,
   "metadata": {},
   "outputs": [
    {
     "data": {
      "text/plain": [
       "<function matplotlib.pyplot.show(close=None, block=None)>"
      ]
     },
     "execution_count": 60,
     "metadata": {},
     "output_type": "execute_result"
    },
    {
     "data": {
      "image/png": "[encoded data removed]",
      "text/plain": [
       "<Figure size 640x480 with 1 Axes>"
      ]
     },
     "metadata": {},
     "output_type": "display_data"
    }
   ],
   "source": [
    "x = np.arange(0.5, 100.5, 0.5)\n",
    "y = np.sin(x)\n",
    "plt.plot(x,y)\n",
    "plt.show"
   ]
  },
  {
   "cell_type": "markdown",
   "metadata": {},
   "source": [
    "5. $$y = \\frac{\\sin{(x)}}{x}$$"
   ]
  },
  {
   "cell_type": "code",
   "execution_count": 61,
   "metadata": {},
   "outputs": [
    {
     "data": {
      "text/plain": [
       "<function matplotlib.pyplot.show(close=None, block=None)>"
      ]
     },
     "execution_count": 61,
     "metadata": {},
     "output_type": "execute_result"
    },
    {
     "data": {
      "image/png": "[encoded data removed]",
      "text/plain": [
       "<Figure size 640x480 with 1 Axes>"
      ]
     },
     "metadata": {},
     "output_type": "display_data"
    }
   ],
   "source": [
    "x = np.arange(0.5, 100.5, 0.5)\n",
    "y = np.sin(x)/x\n",
    "plt.plot(x,y)\n",
    "plt.show"
   ]
  },
  {
   "cell_type": "markdown",
   "metadata": {},
   "source": [
    "6. $$y = \\log{(x)}$$"
   ]
  },
  {
   "cell_type": "code",
   "execution_count": 62,
   "metadata": {},
   "outputs": [
    {
     "data": {
      "text/plain": [
       "<function matplotlib.pyplot.show(close=None, block=None)>"
      ]
     },
     "execution_count": 62,
     "metadata": {},
     "output_type": "execute_result"
    },
    {
     "data": {
      "image/png": "[encoded data removed]",
      "text/plain": [
       "<Figure size 640x480 with 1 Axes>"
      ]
     },
     "metadata": {},
     "output_type": "display_data"
    }
   ],
   "source": [
    "x = np.arange(0.5, 100.5, 0.5)\n",
    "y = np.log(x)\n",
    "plt.plot(x,y)\n",
    "plt.show"
   ]
  },
  {
   "cell_type": "markdown",
   "metadata": {},
   "source": [
    "7. $$y = e^{x}$$"
   ]
  },
  {
   "cell_type": "code",
   "execution_count": 63,
   "metadata": {},
   "outputs": [
    {
     "data": {
      "text/plain": [
       "<function matplotlib.pyplot.show(close=None, block=None)>"
      ]
     },
     "execution_count": 63,
     "metadata": {},
     "output_type": "execute_result"
    },
    {
     "data": {
      "image/png": "[encoded data removed]",
      "text/plain": [
       "<Figure size 640x480 with 1 Axes>"
      ]
     },
     "metadata": {},
     "output_type": "display_data"
    }
   ],
   "source": [
    "x = np.arange(0.5, 100.5, 0.5)\n",
    "y = np.exp(x)\n",
    "plt.plot(x,y)\n",
    "plt.show"
   ]
  },
  {
   "cell_type": "markdown",
   "metadata": {},
   "source": [
    "The scale seems different on the y-axis"
   ]
  },
  {
   "cell_type": "code",
   "execution_count": 64,
   "metadata": {},
   "outputs": [
    {
     "name": "stdout",
     "output_type": "stream",
     "text": [
      "Gradient at (x=2.0, y=3.0): (Array(4., dtype=float32, weak_type=True), Array(27., dtype=float32, weak_type=True))\n"
     ]
    }
   ],
   "source": [
    "#Define your function\n",
    "def my_function(x, y):\n",
    "    return x**2 + y**3\n",
    "\n",
    "# Use JAX's grad function to compute the gradient\n",
    "grad_fn = jax.grad(my_function, argnums=(0, 1))\n",
    "\n",
    "# Specify the values for x and y at which you want to compute the gradient\n",
    "x_value = 2.0\n",
    "y_value = 3.0\n",
    "\n",
    "# Evaluate the gradient at the specified values\n",
    "gradient_at_values = grad_fn(x_value, y_value)\n",
    "\n",
    "print(f\"Gradient at (x={x_value}, y={y_value}): {gradient_at_values}\")"
   ]
  },
  {
   "cell_type": "code",
   "execution_count": 65,
   "metadata": {},
   "outputs": [
    {
     "name": "stdout",
     "output_type": "stream",
     "text": [
      "Gradient at (x=2.0, y=3.0): (Array(0.7640352, dtype=float32, weak_type=True), Array(28.55103, dtype=float32, weak_type=True))\n"
     ]
    }
   ],
   "source": [
    "#Define your function\n",
    "def my_function(x, y):\n",
    "    return ((x**2)*y + (y**3)*jnp.sin(x))\n",
    "# Use JAX's grad function to compute the gradient\n",
    "grad_fn = jax.grad(my_function, argnums=(0, 1))\n",
    "\n",
    "# Specify the values for x and y at which you want to compute the gradient\n",
    "x_value = 2.0\n",
    "y_value = 3.0\n",
    "\n",
    "# Evaluate the gradient at the specified values\n",
    "gradient_at_values = grad_fn(x_value, y_value)\n",
    "\n",
    "print(f\"Gradient at (x={x_value}, y={y_value}): {gradient_at_values}\")\n"
   ]
  },
  {
   "cell_type": "markdown",
   "metadata": {},
   "source": [
    "##### 10. Using numpy generate a matrix of size 20 $\\times$ 5 containing random numbers drawn uniformly from the range of 1 to 2. Using Pandas create a dataframe out of this matrix. Name the columns of the dataframe as “a”, “b”, “c”, “d”, “e”. Find the column with the highest standard deviation. Find the row with the lowest mean."
   ]
  },
  {
   "cell_type": "code",
   "execution_count": 66,
   "metadata": {},
   "outputs": [
    {
     "data": {
      "text/plain": [
       "array([[1.7123754 , 1.85003311, 1.89215983, 1.64694368, 1.14619332],\n",
       "       [1.95215697, 1.96907894, 1.59188053, 1.51062957, 1.62302287],\n",
       "       [1.42689849, 1.67977322, 1.46503712, 1.6834967 , 1.52951337],\n",
       "       [1.00244631, 1.18106553, 1.80533565, 1.95117855, 1.48161175],\n",
       "       [1.78445296, 1.54596824, 1.71209798, 1.17115151, 1.01516828],\n",
       "       [1.20912428, 1.86198084, 1.80674529, 1.39253438, 1.89197039],\n",
       "       [1.62020026, 1.90134172, 1.88393446, 1.5881829 , 1.38902522],\n",
       "       [1.49075511, 1.12995006, 1.26420488, 1.44534356, 1.25150876],\n",
       "       [1.76185122, 1.63615193, 1.53767279, 1.16770071, 1.7242426 ],\n",
       "       [1.59246586, 1.26107233, 1.91482234, 1.5894731 , 1.19228029],\n",
       "       [1.2121975 , 1.95033846, 1.69021623, 1.07561739, 1.6643383 ],\n",
       "       [1.78569114, 1.98102836, 1.20261968, 1.02319484, 1.43229667],\n",
       "       [1.18445115, 1.2330541 , 1.52186007, 1.98992522, 1.50072343],\n",
       "       [1.79537743, 1.48111758, 1.92942939, 1.79996759, 1.55752793],\n",
       "       [1.53243991, 1.06254713, 1.16250296, 1.29588936, 1.33038613],\n",
       "       [1.61716089, 1.50517914, 1.78131434, 1.0815442 , 1.82036722],\n",
       "       [1.99504145, 1.15705302, 1.85851873, 1.74883857, 1.27820641],\n",
       "       [1.51690238, 1.2678797 , 1.70744134, 1.91926129, 1.38188881],\n",
       "       [1.76504483, 1.26462442, 1.20674948, 1.4452402 , 1.2442104 ],\n",
       "       [1.4560076 , 1.60441571, 1.32201837, 1.65640285, 1.5711186 ]])"
      ]
     },
     "execution_count": 66,
     "metadata": {},
     "output_type": "execute_result"
    }
   ],
   "source": [
    "mat = np.random.uniform(low=1.0, high=2.0, size=(20,5))\n",
    "mat"
   ]
  },
  {
   "cell_type": "code",
   "execution_count": 67,
   "metadata": {},
   "outputs": [],
   "source": [
    "import pandas as pd"
   ]
  },
  {
   "cell_type": "code",
   "execution_count": 68,
   "metadata": {},
   "outputs": [
    {
     "name": "stderr",
     "output_type": "stream",
     "text": [
      "C:\\Users\\parag\\AppData\\Local\\Temp\\ipykernel_24912\\3590558673.py:2: FutureWarning: DataFrame.set_axis 'inplace' keyword is deprecated and will be removed in a future version. Use `obj = obj.set_axis(..., copy=False)` instead\n",
      "  mat_df.set_axis(['a', 'b', 'c', 'd', 'e'], axis='columns', inplace=True)\n"
     ]
    },
    {
     "data": {
      "text/html": [
       "<div>\n",
       "<style scoped>\n",
       "    .dataframe tbody tr th:only-of-type {\n",
       "        vertical-align: middle;\n",
       "    }\n",
       "\n",
       "    .dataframe tbody tr th {\n",
       "        vertical-align: top;\n",
       "    }\n",
       "\n",
       "    .dataframe thead th {\n",
       "        text-align: right;\n",
       "    }\n",
       "</style>\n",
       "<table border=\"1\" class=\"dataframe\">\n",
       "  <thead>\n",
       "    <tr style=\"text-align: right;\">\n",
       "      <th></th>\n",
       "      <th>a</th>\n",
       "      <th>b</th>\n",
       "      <th>c</th>\n",
       "      <th>d</th>\n",
       "      <th>e</th>\n",
       "    </tr>\n",
       "  </thead>\n",
       "  <tbody>\n",
       "    <tr>\n",
       "      <th>0</th>\n",
       "      <td>1.712375</td>\n",
       "      <td>1.850033</td>\n",
       "      <td>1.892160</td>\n",
       "      <td>1.646944</td>\n",
       "      <td>1.146193</td>\n",
       "    </tr>\n",
       "    <tr>\n",
       "      <th>1</th>\n",
       "      <td>1.952157</td>\n",
       "      <td>1.969079</td>\n",
       "      <td>1.591881</td>\n",
       "      <td>1.510630</td>\n",
       "      <td>1.623023</td>\n",
       "    </tr>\n",
       "    <tr>\n",
       "      <th>2</th>\n",
       "      <td>1.426898</td>\n",
       "      <td>1.679773</td>\n",
       "      <td>1.465037</td>\n",
       "      <td>1.683497</td>\n",
       "      <td>1.529513</td>\n",
       "    </tr>\n",
       "    <tr>\n",
       "      <th>3</th>\n",
       "      <td>1.002446</td>\n",
       "      <td>1.181066</td>\n",
       "      <td>1.805336</td>\n",
       "      <td>1.951179</td>\n",
       "      <td>1.481612</td>\n",
       "    </tr>\n",
       "    <tr>\n",
       "      <th>4</th>\n",
       "      <td>1.784453</td>\n",
       "      <td>1.545968</td>\n",
       "      <td>1.712098</td>\n",
       "      <td>1.171152</td>\n",
       "      <td>1.015168</td>\n",
       "    </tr>\n",
       "    <tr>\n",
       "      <th>5</th>\n",
       "      <td>1.209124</td>\n",
       "      <td>1.861981</td>\n",
       "      <td>1.806745</td>\n",
       "      <td>1.392534</td>\n",
       "      <td>1.891970</td>\n",
       "    </tr>\n",
       "    <tr>\n",
       "      <th>6</th>\n",
       "      <td>1.620200</td>\n",
       "      <td>1.901342</td>\n",
       "      <td>1.883934</td>\n",
       "      <td>1.588183</td>\n",
       "      <td>1.389025</td>\n",
       "    </tr>\n",
       "    <tr>\n",
       "      <th>7</th>\n",
       "      <td>1.490755</td>\n",
       "      <td>1.129950</td>\n",
       "      <td>1.264205</td>\n",
       "      <td>1.445344</td>\n",
       "      <td>1.251509</td>\n",
       "    </tr>\n",
       "    <tr>\n",
       "      <th>8</th>\n",
       "      <td>1.761851</td>\n",
       "      <td>1.636152</td>\n",
       "      <td>1.537673</td>\n",
       "      <td>1.167701</td>\n",
       "      <td>1.724243</td>\n",
       "    </tr>\n",
       "    <tr>\n",
       "      <th>9</th>\n",
       "      <td>1.592466</td>\n",
       "      <td>1.261072</td>\n",
       "      <td>1.914822</td>\n",
       "      <td>1.589473</td>\n",
       "      <td>1.192280</td>\n",
       "    </tr>\n",
       "    <tr>\n",
       "      <th>10</th>\n",
       "      <td>1.212198</td>\n",
       "      <td>1.950338</td>\n",
       "      <td>1.690216</td>\n",
       "      <td>1.075617</td>\n",
       "      <td>1.664338</td>\n",
       "    </tr>\n",
       "    <tr>\n",
       "      <th>11</th>\n",
       "      <td>1.785691</td>\n",
       "      <td>1.981028</td>\n",
       "      <td>1.202620</td>\n",
       "      <td>1.023195</td>\n",
       "      <td>1.432297</td>\n",
       "    </tr>\n",
       "    <tr>\n",
       "      <th>12</th>\n",
       "      <td>1.184451</td>\n",
       "      <td>1.233054</td>\n",
       "      <td>1.521860</td>\n",
       "      <td>1.989925</td>\n",
       "      <td>1.500723</td>\n",
       "    </tr>\n",
       "    <tr>\n",
       "      <th>13</th>\n",
       "      <td>1.795377</td>\n",
       "      <td>1.481118</td>\n",
       "      <td>1.929429</td>\n",
       "      <td>1.799968</td>\n",
       "      <td>1.557528</td>\n",
       "    </tr>\n",
       "    <tr>\n",
       "      <th>14</th>\n",
       "      <td>1.532440</td>\n",
       "      <td>1.062547</td>\n",
       "      <td>1.162503</td>\n",
       "      <td>1.295889</td>\n",
       "      <td>1.330386</td>\n",
       "    </tr>\n",
       "    <tr>\n",
       "      <th>15</th>\n",
       "      <td>1.617161</td>\n",
       "      <td>1.505179</td>\n",
       "      <td>1.781314</td>\n",
       "      <td>1.081544</td>\n",
       "      <td>1.820367</td>\n",
       "    </tr>\n",
       "    <tr>\n",
       "      <th>16</th>\n",
       "      <td>1.995041</td>\n",
       "      <td>1.157053</td>\n",
       "      <td>1.858519</td>\n",
       "      <td>1.748839</td>\n",
       "      <td>1.278206</td>\n",
       "    </tr>\n",
       "    <tr>\n",
       "      <th>17</th>\n",
       "      <td>1.516902</td>\n",
       "      <td>1.267880</td>\n",
       "      <td>1.707441</td>\n",
       "      <td>1.919261</td>\n",
       "      <td>1.381889</td>\n",
       "    </tr>\n",
       "    <tr>\n",
       "      <th>18</th>\n",
       "      <td>1.765045</td>\n",
       "      <td>1.264624</td>\n",
       "      <td>1.206749</td>\n",
       "      <td>1.445240</td>\n",
       "      <td>1.244210</td>\n",
       "    </tr>\n",
       "    <tr>\n",
       "      <th>19</th>\n",
       "      <td>1.456008</td>\n",
       "      <td>1.604416</td>\n",
       "      <td>1.322018</td>\n",
       "      <td>1.656403</td>\n",
       "      <td>1.571119</td>\n",
       "    </tr>\n",
       "  </tbody>\n",
       "</table>\n",
       "</div>"
      ],
      "text/plain": [
       "           a         b         c         d         e\n",
       "0   1.712375  1.850033  1.892160  1.646944  1.146193\n",
       "1   1.952157  1.969079  1.591881  1.510630  1.623023\n",
       "2   1.426898  1.679773  1.465037  1.683497  1.529513\n",
       "3   1.002446  1.181066  1.805336  1.951179  1.481612\n",
       "4   1.784453  1.545968  1.712098  1.171152  1.015168\n",
       "5   1.209124  1.861981  1.806745  1.392534  1.891970\n",
       "6   1.620200  1.901342  1.883934  1.588183  1.389025\n",
       "7   1.490755  1.129950  1.264205  1.445344  1.251509\n",
       "8   1.761851  1.636152  1.537673  1.167701  1.724243\n",
       "9   1.592466  1.261072  1.914822  1.589473  1.192280\n",
       "10  1.212198  1.950338  1.690216  1.075617  1.664338\n",
       "11  1.785691  1.981028  1.202620  1.023195  1.432297\n",
       "12  1.184451  1.233054  1.521860  1.989925  1.500723\n",
       "13  1.795377  1.481118  1.929429  1.799968  1.557528\n",
       "14  1.532440  1.062547  1.162503  1.295889  1.330386\n",
       "15  1.617161  1.505179  1.781314  1.081544  1.820367\n",
       "16  1.995041  1.157053  1.858519  1.748839  1.278206\n",
       "17  1.516902  1.267880  1.707441  1.919261  1.381889\n",
       "18  1.765045  1.264624  1.206749  1.445240  1.244210\n",
       "19  1.456008  1.604416  1.322018  1.656403  1.571119"
      ]
     },
     "execution_count": 68,
     "metadata": {},
     "output_type": "execute_result"
    }
   ],
   "source": [
    "mat_df = pd.DataFrame(mat)\n",
    "mat_df.set_axis(['a', 'b', 'c', 'd', 'e'], axis='columns', inplace=True) \n",
    "mat_df"
   ]
  },
  {
   "cell_type": "code",
   "execution_count": 69,
   "metadata": {},
   "outputs": [
    {
     "name": "stdout",
     "output_type": "stream",
     "text": [
      "Column with maximum standard deviation is b\n"
     ]
    }
   ],
   "source": [
    "std_dev = mat_df.std()\n",
    "max_std_col = std_dev.idxmax()\n",
    "print(f\"Column with maximum standard deviation is {max_std_col}\")"
   ]
  },
  {
   "cell_type": "code",
   "execution_count": 70,
   "metadata": {},
   "outputs": [
    {
     "name": "stdout",
     "output_type": "stream",
     "text": [
      "Column with minimun mean is 14\n"
     ]
    }
   ],
   "source": [
    "mean = mat_df.mean(axis=1)\n",
    "min_mean_row = mean.idxmin()\n",
    "print(f\"Column with minimun mean is {min_mean_row}\")"
   ]
  },
  {
   "cell_type": "markdown",
   "metadata": {},
   "source": [
    "##### 11. Add a new column to the dataframe called “f” which is the sum of the columns “a”, “b”, “c”, “d”, “e”. Create another column called “g”. The value in the column “g” should be “LT8” if the value in the column “f” is less than 8 and “GT8” otherwise. Find the number of rows in the dataframe where the value in the column “g” is “LT8”. Find the standard deviation of the column “f” for the rows where the value in the column “g” is “LT8” and “GT8” respectively."
   ]
  },
  {
   "cell_type": "code",
   "execution_count": 71,
   "metadata": {},
   "outputs": [
    {
     "data": {
      "text/html": [
       "<div>\n",
       "<style scoped>\n",
       "    .dataframe tbody tr th:only-of-type {\n",
       "        vertical-align: middle;\n",
       "    }\n",
       "\n",
       "    .dataframe tbody tr th {\n",
       "        vertical-align: top;\n",
       "    }\n",
       "\n",
       "    .dataframe thead th {\n",
       "        text-align: right;\n",
       "    }\n",
       "</style>\n",
       "<table border=\"1\" class=\"dataframe\">\n",
       "  <thead>\n",
       "    <tr style=\"text-align: right;\">\n",
       "      <th></th>\n",
       "      <th>a</th>\n",
       "      <th>b</th>\n",
       "      <th>c</th>\n",
       "      <th>d</th>\n",
       "      <th>e</th>\n",
       "      <th>f</th>\n",
       "    </tr>\n",
       "  </thead>\n",
       "  <tbody>\n",
       "    <tr>\n",
       "      <th>0</th>\n",
       "      <td>1.712375</td>\n",
       "      <td>1.850033</td>\n",
       "      <td>1.892160</td>\n",
       "      <td>1.646944</td>\n",
       "      <td>1.146193</td>\n",
       "      <td>8.247705</td>\n",
       "    </tr>\n",
       "    <tr>\n",
       "      <th>1</th>\n",
       "      <td>1.952157</td>\n",
       "      <td>1.969079</td>\n",
       "      <td>1.591881</td>\n",
       "      <td>1.510630</td>\n",
       "      <td>1.623023</td>\n",
       "      <td>8.646769</td>\n",
       "    </tr>\n",
       "    <tr>\n",
       "      <th>2</th>\n",
       "      <td>1.426898</td>\n",
       "      <td>1.679773</td>\n",
       "      <td>1.465037</td>\n",
       "      <td>1.683497</td>\n",
       "      <td>1.529513</td>\n",
       "      <td>7.784719</td>\n",
       "    </tr>\n",
       "    <tr>\n",
       "      <th>3</th>\n",
       "      <td>1.002446</td>\n",
       "      <td>1.181066</td>\n",
       "      <td>1.805336</td>\n",
       "      <td>1.951179</td>\n",
       "      <td>1.481612</td>\n",
       "      <td>7.421638</td>\n",
       "    </tr>\n",
       "    <tr>\n",
       "      <th>4</th>\n",
       "      <td>1.784453</td>\n",
       "      <td>1.545968</td>\n",
       "      <td>1.712098</td>\n",
       "      <td>1.171152</td>\n",
       "      <td>1.015168</td>\n",
       "      <td>7.228839</td>\n",
       "    </tr>\n",
       "    <tr>\n",
       "      <th>5</th>\n",
       "      <td>1.209124</td>\n",
       "      <td>1.861981</td>\n",
       "      <td>1.806745</td>\n",
       "      <td>1.392534</td>\n",
       "      <td>1.891970</td>\n",
       "      <td>8.162355</td>\n",
       "    </tr>\n",
       "    <tr>\n",
       "      <th>6</th>\n",
       "      <td>1.620200</td>\n",
       "      <td>1.901342</td>\n",
       "      <td>1.883934</td>\n",
       "      <td>1.588183</td>\n",
       "      <td>1.389025</td>\n",
       "      <td>8.382685</td>\n",
       "    </tr>\n",
       "    <tr>\n",
       "      <th>7</th>\n",
       "      <td>1.490755</td>\n",
       "      <td>1.129950</td>\n",
       "      <td>1.264205</td>\n",
       "      <td>1.445344</td>\n",
       "      <td>1.251509</td>\n",
       "      <td>6.581762</td>\n",
       "    </tr>\n",
       "    <tr>\n",
       "      <th>8</th>\n",
       "      <td>1.761851</td>\n",
       "      <td>1.636152</td>\n",
       "      <td>1.537673</td>\n",
       "      <td>1.167701</td>\n",
       "      <td>1.724243</td>\n",
       "      <td>7.827619</td>\n",
       "    </tr>\n",
       "    <tr>\n",
       "      <th>9</th>\n",
       "      <td>1.592466</td>\n",
       "      <td>1.261072</td>\n",
       "      <td>1.914822</td>\n",
       "      <td>1.589473</td>\n",
       "      <td>1.192280</td>\n",
       "      <td>7.550114</td>\n",
       "    </tr>\n",
       "    <tr>\n",
       "      <th>10</th>\n",
       "      <td>1.212198</td>\n",
       "      <td>1.950338</td>\n",
       "      <td>1.690216</td>\n",
       "      <td>1.075617</td>\n",
       "      <td>1.664338</td>\n",
       "      <td>7.592708</td>\n",
       "    </tr>\n",
       "    <tr>\n",
       "      <th>11</th>\n",
       "      <td>1.785691</td>\n",
       "      <td>1.981028</td>\n",
       "      <td>1.202620</td>\n",
       "      <td>1.023195</td>\n",
       "      <td>1.432297</td>\n",
       "      <td>7.424831</td>\n",
       "    </tr>\n",
       "    <tr>\n",
       "      <th>12</th>\n",
       "      <td>1.184451</td>\n",
       "      <td>1.233054</td>\n",
       "      <td>1.521860</td>\n",
       "      <td>1.989925</td>\n",
       "      <td>1.500723</td>\n",
       "      <td>7.430014</td>\n",
       "    </tr>\n",
       "    <tr>\n",
       "      <th>13</th>\n",
       "      <td>1.795377</td>\n",
       "      <td>1.481118</td>\n",
       "      <td>1.929429</td>\n",
       "      <td>1.799968</td>\n",
       "      <td>1.557528</td>\n",
       "      <td>8.563420</td>\n",
       "    </tr>\n",
       "    <tr>\n",
       "      <th>14</th>\n",
       "      <td>1.532440</td>\n",
       "      <td>1.062547</td>\n",
       "      <td>1.162503</td>\n",
       "      <td>1.295889</td>\n",
       "      <td>1.330386</td>\n",
       "      <td>6.383765</td>\n",
       "    </tr>\n",
       "    <tr>\n",
       "      <th>15</th>\n",
       "      <td>1.617161</td>\n",
       "      <td>1.505179</td>\n",
       "      <td>1.781314</td>\n",
       "      <td>1.081544</td>\n",
       "      <td>1.820367</td>\n",
       "      <td>7.805566</td>\n",
       "    </tr>\n",
       "    <tr>\n",
       "      <th>16</th>\n",
       "      <td>1.995041</td>\n",
       "      <td>1.157053</td>\n",
       "      <td>1.858519</td>\n",
       "      <td>1.748839</td>\n",
       "      <td>1.278206</td>\n",
       "      <td>8.037658</td>\n",
       "    </tr>\n",
       "    <tr>\n",
       "      <th>17</th>\n",
       "      <td>1.516902</td>\n",
       "      <td>1.267880</td>\n",
       "      <td>1.707441</td>\n",
       "      <td>1.919261</td>\n",
       "      <td>1.381889</td>\n",
       "      <td>7.793374</td>\n",
       "    </tr>\n",
       "    <tr>\n",
       "      <th>18</th>\n",
       "      <td>1.765045</td>\n",
       "      <td>1.264624</td>\n",
       "      <td>1.206749</td>\n",
       "      <td>1.445240</td>\n",
       "      <td>1.244210</td>\n",
       "      <td>6.925869</td>\n",
       "    </tr>\n",
       "    <tr>\n",
       "      <th>19</th>\n",
       "      <td>1.456008</td>\n",
       "      <td>1.604416</td>\n",
       "      <td>1.322018</td>\n",
       "      <td>1.656403</td>\n",
       "      <td>1.571119</td>\n",
       "      <td>7.609963</td>\n",
       "    </tr>\n",
       "  </tbody>\n",
       "</table>\n",
       "</div>"
      ],
      "text/plain": [
       "           a         b         c         d         e         f\n",
       "0   1.712375  1.850033  1.892160  1.646944  1.146193  8.247705\n",
       "1   1.952157  1.969079  1.591881  1.510630  1.623023  8.646769\n",
       "2   1.426898  1.679773  1.465037  1.683497  1.529513  7.784719\n",
       "3   1.002446  1.181066  1.805336  1.951179  1.481612  7.421638\n",
       "4   1.784453  1.545968  1.712098  1.171152  1.015168  7.228839\n",
       "5   1.209124  1.861981  1.806745  1.392534  1.891970  8.162355\n",
       "6   1.620200  1.901342  1.883934  1.588183  1.389025  8.382685\n",
       "7   1.490755  1.129950  1.264205  1.445344  1.251509  6.581762\n",
       "8   1.761851  1.636152  1.537673  1.167701  1.724243  7.827619\n",
       "9   1.592466  1.261072  1.914822  1.589473  1.192280  7.550114\n",
       "10  1.212198  1.950338  1.690216  1.075617  1.664338  7.592708\n",
       "11  1.785691  1.981028  1.202620  1.023195  1.432297  7.424831\n",
       "12  1.184451  1.233054  1.521860  1.989925  1.500723  7.430014\n",
       "13  1.795377  1.481118  1.929429  1.799968  1.557528  8.563420\n",
       "14  1.532440  1.062547  1.162503  1.295889  1.330386  6.383765\n",
       "15  1.617161  1.505179  1.781314  1.081544  1.820367  7.805566\n",
       "16  1.995041  1.157053  1.858519  1.748839  1.278206  8.037658\n",
       "17  1.516902  1.267880  1.707441  1.919261  1.381889  7.793374\n",
       "18  1.765045  1.264624  1.206749  1.445240  1.244210  6.925869\n",
       "19  1.456008  1.604416  1.322018  1.656403  1.571119  7.609963"
      ]
     },
     "execution_count": 71,
     "metadata": {},
     "output_type": "execute_result"
    }
   ],
   "source": [
    "mat_df['f'] = mat_df.sum(axis=1)\n",
    "mat_df"
   ]
  },
  {
   "cell_type": "code",
   "execution_count": 72,
   "metadata": {},
   "outputs": [
    {
     "data": {
      "text/html": [
       "<div>\n",
       "<style scoped>\n",
       "    .dataframe tbody tr th:only-of-type {\n",
       "        vertical-align: middle;\n",
       "    }\n",
       "\n",
       "    .dataframe tbody tr th {\n",
       "        vertical-align: top;\n",
       "    }\n",
       "\n",
       "    .dataframe thead th {\n",
       "        text-align: right;\n",
       "    }\n",
       "</style>\n",
       "<table border=\"1\" class=\"dataframe\">\n",
       "  <thead>\n",
       "    <tr style=\"text-align: right;\">\n",
       "      <th></th>\n",
       "      <th>a</th>\n",
       "      <th>b</th>\n",
       "      <th>c</th>\n",
       "      <th>d</th>\n",
       "      <th>e</th>\n",
       "      <th>f</th>\n",
       "      <th>g</th>\n",
       "    </tr>\n",
       "  </thead>\n",
       "  <tbody>\n",
       "    <tr>\n",
       "      <th>0</th>\n",
       "      <td>1.712375</td>\n",
       "      <td>1.850033</td>\n",
       "      <td>1.892160</td>\n",
       "      <td>1.646944</td>\n",
       "      <td>1.146193</td>\n",
       "      <td>8.247705</td>\n",
       "      <td>GT8</td>\n",
       "    </tr>\n",
       "    <tr>\n",
       "      <th>1</th>\n",
       "      <td>1.952157</td>\n",
       "      <td>1.969079</td>\n",
       "      <td>1.591881</td>\n",
       "      <td>1.510630</td>\n",
       "      <td>1.623023</td>\n",
       "      <td>8.646769</td>\n",
       "      <td>GT8</td>\n",
       "    </tr>\n",
       "    <tr>\n",
       "      <th>2</th>\n",
       "      <td>1.426898</td>\n",
       "      <td>1.679773</td>\n",
       "      <td>1.465037</td>\n",
       "      <td>1.683497</td>\n",
       "      <td>1.529513</td>\n",
       "      <td>7.784719</td>\n",
       "      <td>LT8</td>\n",
       "    </tr>\n",
       "    <tr>\n",
       "      <th>3</th>\n",
       "      <td>1.002446</td>\n",
       "      <td>1.181066</td>\n",
       "      <td>1.805336</td>\n",
       "      <td>1.951179</td>\n",
       "      <td>1.481612</td>\n",
       "      <td>7.421638</td>\n",
       "      <td>LT8</td>\n",
       "    </tr>\n",
       "    <tr>\n",
       "      <th>4</th>\n",
       "      <td>1.784453</td>\n",
       "      <td>1.545968</td>\n",
       "      <td>1.712098</td>\n",
       "      <td>1.171152</td>\n",
       "      <td>1.015168</td>\n",
       "      <td>7.228839</td>\n",
       "      <td>LT8</td>\n",
       "    </tr>\n",
       "    <tr>\n",
       "      <th>5</th>\n",
       "      <td>1.209124</td>\n",
       "      <td>1.861981</td>\n",
       "      <td>1.806745</td>\n",
       "      <td>1.392534</td>\n",
       "      <td>1.891970</td>\n",
       "      <td>8.162355</td>\n",
       "      <td>GT8</td>\n",
       "    </tr>\n",
       "    <tr>\n",
       "      <th>6</th>\n",
       "      <td>1.620200</td>\n",
       "      <td>1.901342</td>\n",
       "      <td>1.883934</td>\n",
       "      <td>1.588183</td>\n",
       "      <td>1.389025</td>\n",
       "      <td>8.382685</td>\n",
       "      <td>GT8</td>\n",
       "    </tr>\n",
       "    <tr>\n",
       "      <th>7</th>\n",
       "      <td>1.490755</td>\n",
       "      <td>1.129950</td>\n",
       "      <td>1.264205</td>\n",
       "      <td>1.445344</td>\n",
       "      <td>1.251509</td>\n",
       "      <td>6.581762</td>\n",
       "      <td>LT8</td>\n",
       "    </tr>\n",
       "    <tr>\n",
       "      <th>8</th>\n",
       "      <td>1.761851</td>\n",
       "      <td>1.636152</td>\n",
       "      <td>1.537673</td>\n",
       "      <td>1.167701</td>\n",
       "      <td>1.724243</td>\n",
       "      <td>7.827619</td>\n",
       "      <td>LT8</td>\n",
       "    </tr>\n",
       "    <tr>\n",
       "      <th>9</th>\n",
       "      <td>1.592466</td>\n",
       "      <td>1.261072</td>\n",
       "      <td>1.914822</td>\n",
       "      <td>1.589473</td>\n",
       "      <td>1.192280</td>\n",
       "      <td>7.550114</td>\n",
       "      <td>LT8</td>\n",
       "    </tr>\n",
       "    <tr>\n",
       "      <th>10</th>\n",
       "      <td>1.212198</td>\n",
       "      <td>1.950338</td>\n",
       "      <td>1.690216</td>\n",
       "      <td>1.075617</td>\n",
       "      <td>1.664338</td>\n",
       "      <td>7.592708</td>\n",
       "      <td>LT8</td>\n",
       "    </tr>\n",
       "    <tr>\n",
       "      <th>11</th>\n",
       "      <td>1.785691</td>\n",
       "      <td>1.981028</td>\n",
       "      <td>1.202620</td>\n",
       "      <td>1.023195</td>\n",
       "      <td>1.432297</td>\n",
       "      <td>7.424831</td>\n",
       "      <td>LT8</td>\n",
       "    </tr>\n",
       "    <tr>\n",
       "      <th>12</th>\n",
       "      <td>1.184451</td>\n",
       "      <td>1.233054</td>\n",
       "      <td>1.521860</td>\n",
       "      <td>1.989925</td>\n",
       "      <td>1.500723</td>\n",
       "      <td>7.430014</td>\n",
       "      <td>LT8</td>\n",
       "    </tr>\n",
       "    <tr>\n",
       "      <th>13</th>\n",
       "      <td>1.795377</td>\n",
       "      <td>1.481118</td>\n",
       "      <td>1.929429</td>\n",
       "      <td>1.799968</td>\n",
       "      <td>1.557528</td>\n",
       "      <td>8.563420</td>\n",
       "      <td>GT8</td>\n",
       "    </tr>\n",
       "    <tr>\n",
       "      <th>14</th>\n",
       "      <td>1.532440</td>\n",
       "      <td>1.062547</td>\n",
       "      <td>1.162503</td>\n",
       "      <td>1.295889</td>\n",
       "      <td>1.330386</td>\n",
       "      <td>6.383765</td>\n",
       "      <td>LT8</td>\n",
       "    </tr>\n",
       "    <tr>\n",
       "      <th>15</th>\n",
       "      <td>1.617161</td>\n",
       "      <td>1.505179</td>\n",
       "      <td>1.781314</td>\n",
       "      <td>1.081544</td>\n",
       "      <td>1.820367</td>\n",
       "      <td>7.805566</td>\n",
       "      <td>LT8</td>\n",
       "    </tr>\n",
       "    <tr>\n",
       "      <th>16</th>\n",
       "      <td>1.995041</td>\n",
       "      <td>1.157053</td>\n",
       "      <td>1.858519</td>\n",
       "      <td>1.748839</td>\n",
       "      <td>1.278206</td>\n",
       "      <td>8.037658</td>\n",
       "      <td>GT8</td>\n",
       "    </tr>\n",
       "    <tr>\n",
       "      <th>17</th>\n",
       "      <td>1.516902</td>\n",
       "      <td>1.267880</td>\n",
       "      <td>1.707441</td>\n",
       "      <td>1.919261</td>\n",
       "      <td>1.381889</td>\n",
       "      <td>7.793374</td>\n",
       "      <td>LT8</td>\n",
       "    </tr>\n",
       "    <tr>\n",
       "      <th>18</th>\n",
       "      <td>1.765045</td>\n",
       "      <td>1.264624</td>\n",
       "      <td>1.206749</td>\n",
       "      <td>1.445240</td>\n",
       "      <td>1.244210</td>\n",
       "      <td>6.925869</td>\n",
       "      <td>LT8</td>\n",
       "    </tr>\n",
       "    <tr>\n",
       "      <th>19</th>\n",
       "      <td>1.456008</td>\n",
       "      <td>1.604416</td>\n",
       "      <td>1.322018</td>\n",
       "      <td>1.656403</td>\n",
       "      <td>1.571119</td>\n",
       "      <td>7.609963</td>\n",
       "      <td>LT8</td>\n",
       "    </tr>\n",
       "  </tbody>\n",
       "</table>\n",
       "</div>"
      ],
      "text/plain": [
       "           a         b         c         d         e         f    g\n",
       "0   1.712375  1.850033  1.892160  1.646944  1.146193  8.247705  GT8\n",
       "1   1.952157  1.969079  1.591881  1.510630  1.623023  8.646769  GT8\n",
       "2   1.426898  1.679773  1.465037  1.683497  1.529513  7.784719  LT8\n",
       "3   1.002446  1.181066  1.805336  1.951179  1.481612  7.421638  LT8\n",
       "4   1.784453  1.545968  1.712098  1.171152  1.015168  7.228839  LT8\n",
       "5   1.209124  1.861981  1.806745  1.392534  1.891970  8.162355  GT8\n",
       "6   1.620200  1.901342  1.883934  1.588183  1.389025  8.382685  GT8\n",
       "7   1.490755  1.129950  1.264205  1.445344  1.251509  6.581762  LT8\n",
       "8   1.761851  1.636152  1.537673  1.167701  1.724243  7.827619  LT8\n",
       "9   1.592466  1.261072  1.914822  1.589473  1.192280  7.550114  LT8\n",
       "10  1.212198  1.950338  1.690216  1.075617  1.664338  7.592708  LT8\n",
       "11  1.785691  1.981028  1.202620  1.023195  1.432297  7.424831  LT8\n",
       "12  1.184451  1.233054  1.521860  1.989925  1.500723  7.430014  LT8\n",
       "13  1.795377  1.481118  1.929429  1.799968  1.557528  8.563420  GT8\n",
       "14  1.532440  1.062547  1.162503  1.295889  1.330386  6.383765  LT8\n",
       "15  1.617161  1.505179  1.781314  1.081544  1.820367  7.805566  LT8\n",
       "16  1.995041  1.157053  1.858519  1.748839  1.278206  8.037658  GT8\n",
       "17  1.516902  1.267880  1.707441  1.919261  1.381889  7.793374  LT8\n",
       "18  1.765045  1.264624  1.206749  1.445240  1.244210  6.925869  LT8\n",
       "19  1.456008  1.604416  1.322018  1.656403  1.571119  7.609963  LT8"
      ]
     },
     "execution_count": 72,
     "metadata": {},
     "output_type": "execute_result"
    }
   ],
   "source": [
    "mat_df['g'] = np.where(mat_df['f'] < 8, \"LT8\", \"GT8\")\n",
    "mat_df"
   ]
  },
  {
   "cell_type": "code",
   "execution_count": 73,
   "metadata": {},
   "outputs": [
    {
     "data": {
      "text/plain": [
       "14"
      ]
     },
     "execution_count": 73,
     "metadata": {},
     "output_type": "execute_result"
    }
   ],
   "source": [
    "num_rows_LT8 = (mat_df['g'] == \"LT8\").sum()\n",
    "num_rows_LT8"
   ]
  },
  {
   "cell_type": "code",
   "execution_count": 74,
   "metadata": {},
   "outputs": [
    {
     "name": "stdout",
     "output_type": "stream",
     "text": [
      "           a         b         c         d         e         f    g\n",
      "2   1.426898  1.679773  1.465037  1.683497  1.529513  7.784719  LT8\n",
      "3   1.002446  1.181066  1.805336  1.951179  1.481612  7.421638  LT8\n",
      "4   1.784453  1.545968  1.712098  1.171152  1.015168  7.228839  LT8\n",
      "7   1.490755  1.129950  1.264205  1.445344  1.251509  6.581762  LT8\n",
      "8   1.761851  1.636152  1.537673  1.167701  1.724243  7.827619  LT8\n",
      "9   1.592466  1.261072  1.914822  1.589473  1.192280  7.550114  LT8\n",
      "10  1.212198  1.950338  1.690216  1.075617  1.664338  7.592708  LT8\n",
      "11  1.785691  1.981028  1.202620  1.023195  1.432297  7.424831  LT8\n",
      "12  1.184451  1.233054  1.521860  1.989925  1.500723  7.430014  LT8\n",
      "14  1.532440  1.062547  1.162503  1.295889  1.330386  6.383765  LT8\n",
      "15  1.617161  1.505179  1.781314  1.081544  1.820367  7.805566  LT8\n",
      "17  1.516902  1.267880  1.707441  1.919261  1.381889  7.793374  LT8\n",
      "18  1.765045  1.264624  1.206749  1.445240  1.244210  6.925869  LT8\n",
      "19  1.456008  1.604416  1.322018  1.656403  1.571119  7.609963  LT8\n",
      "0.4564147638770068\n"
     ]
    }
   ],
   "source": [
    "LT8_df = mat_df.loc[mat_df['g'] == \"LT8\"]\n",
    "std_dev_LT8_f = LT8_df['f'].std()\n",
    "print(LT8_df)\n",
    "print(std_dev_LT8_f)"
   ]
  },
  {
   "cell_type": "code",
   "execution_count": 75,
   "metadata": {},
   "outputs": [
    {
     "name": "stdout",
     "output_type": "stream",
     "text": [
      "           a         b         c         d         e         f    g\n",
      "0   1.712375  1.850033  1.892160  1.646944  1.146193  8.247705  GT8\n",
      "1   1.952157  1.969079  1.591881  1.510630  1.623023  8.646769  GT8\n",
      "5   1.209124  1.861981  1.806745  1.392534  1.891970  8.162355  GT8\n",
      "6   1.620200  1.901342  1.883934  1.588183  1.389025  8.382685  GT8\n",
      "13  1.795377  1.481118  1.929429  1.799968  1.557528  8.563420  GT8\n",
      "16  1.995041  1.157053  1.858519  1.748839  1.278206  8.037658  GT8\n",
      "0.23551309167907095\n"
     ]
    }
   ],
   "source": [
    "GT8_df = mat_df.loc[mat_df['g'] == \"GT8\"]\n",
    "std_dev_GT8_f = GT8_df['f'].std()\n",
    "print(GT8_df)\n",
    "print(std_dev_GT8_f)"
   ]
  },
  {
   "cell_type": "markdown",
   "metadata": {},
   "source": [
    "##### 12. Write a small piece of code to explain broadcasting in numpy."
   ]
  },
  {
   "cell_type": "code",
   "execution_count": 76,
   "metadata": {},
   "outputs": [
    {
     "name": "stdout",
     "output_type": "stream",
     "text": [
      "[0 1 2 3] (4,)\n",
      "[[0]\n",
      " [1]\n",
      " [2]\n",
      " [3]] (4, 1)\n"
     ]
    }
   ],
   "source": [
    "A_arr = np.arange(4)\n",
    "B_arr = np.arange(4)[:, np.newaxis]\n",
    "\n",
    "print(A_arr, A_arr.shape)\n",
    "print(B_arr, B_arr.shape)"
   ]
  },
  {
   "cell_type": "code",
   "execution_count": 77,
   "metadata": {},
   "outputs": [
    {
     "name": "stdout",
     "output_type": "stream",
     "text": [
      "[[0 1 2 3]\n",
      " [1 2 3 4]\n",
      " [2 3 4 5]\n",
      " [3 4 5 6]]\n",
      "(4, 4)\n"
     ]
    }
   ],
   "source": [
    "print(A_arr + B_arr)\n",
    "print((A_arr + B_arr).shape)"
   ]
  },
  {
   "cell_type": "markdown",
   "metadata": {},
   "source": [
    "What might have happened with shape of arrays: \\\n",
    "For A_arr -  (4,) -> (1,4) -> (4,4) \\\n",
    "For B_arr -  (4,1)    ->      (4,4)"
   ]
  },
  {
   "cell_type": "markdown",
   "metadata": {},
   "source": [
    "##### 13. Write a function to compute the argmin of a numpy array. The function should take a numpy array as input and return the index of the minimum element. You can use the np.argmin function to verify your solution."
   ]
  },
  {
   "cell_type": "code",
   "execution_count": 78,
   "metadata": {},
   "outputs": [
    {
     "name": "stdout",
     "output_type": "stream",
     "text": [
      "The index of the minimum element is 14\n",
      "The index of the minimum element using argmin is 14\n"
     ]
    }
   ],
   "source": [
    "my_arr = np.random.randint(20, size=(5,6))\n",
    "my_arr1 = my_arr #Just to get a copy\n",
    "my_arr = my_arr.flatten()\n",
    "min_element = my_arr[0]\n",
    "min_idx = -1\n",
    "\n",
    "for i in range(len(my_arr)):\n",
    "    if (my_arr[i] < min_element):\n",
    "        min_element = my_arr[i]\n",
    "        min_idx = i\n",
    "\n",
    "print(f\"The index of the minimum element is {min_idx}\")\n",
    "\n",
    "#Using argmin\n",
    "print(f\"The index of the minimum element using argmin is {np.argmin(my_arr1)}\")"
   ]
  },
  {
   "cell_type": "code",
   "execution_count": 79,
   "metadata": {},
   "outputs": [
    {
     "data": {
      "text/plain": [
       "array([12,  4,  2, 18, 15, 16, 10,  2,  1,  7, 14, 16, 17, 12,  0,  1,  1,\n",
       "       16, 15, 18, 17, 18, 17, 11,  6, 10, 10, 10,  8,  0])"
      ]
     },
     "execution_count": 79,
     "metadata": {},
     "output_type": "execute_result"
    }
   ],
   "source": [
    "my_arr"
   ]
  },
  {
   "cell_type": "code",
   "execution_count": 80,
   "metadata": {},
   "outputs": [
    {
     "data": {
      "text/plain": [
       "array([[12,  4,  2, 18, 15, 16],\n",
       "       [10,  2,  1,  7, 14, 16],\n",
       "       [17, 12,  0,  1,  1, 16],\n",
       "       [15, 18, 17, 18, 17, 11],\n",
       "       [ 6, 10, 10, 10,  8,  0]])"
      ]
     },
     "execution_count": 80,
     "metadata": {},
     "output_type": "execute_result"
    }
   ],
   "source": [
    "my_arr1"
   ]
  }
 ],
 "metadata": {
  "kernelspec": {
   "display_name": "Python 3",
   "language": "python",
   "name": "python3"
  },
  "language_info": {
   "codemirror_mode": {
    "name": "ipython",
    "version": 3
   },
   "file_extension": ".py",
   "mimetype": "text/x-python",
   "name": "python",
   "nbconvert_exporter": "python",
   "pygments_lexer": "ipython3",
   "version": "3.10.11"
  }
 },
 "nbformat": 4,
 "nbformat_minor": 2
}
